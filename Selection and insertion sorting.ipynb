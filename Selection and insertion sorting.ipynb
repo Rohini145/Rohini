{
 "cells": [
  {
   "cell_type": "code",
   "execution_count": 12,
   "id": "42d4609c-a0e2-41bc-ae72-adbacc512679",
   "metadata": {},
   "outputs": [
    {
     "name": "stdout",
     "output_type": "stream",
     "text": [
      "The sorted array is :  [17, 24, 33, 41, 42]\n"
     ]
    }
   ],
   "source": [
    "def insertion(arr):\n",
    "    n=len(arr)\n",
    "    for i in range(1,5):\n",
    "        key=arr[i]\n",
    "        j=i-1\n",
    "        while j>=0 and key<arr[j]:\n",
    "            arr[j+1]=arr[j]\n",
    "            j=j-1\n",
    "        arr[j+1]=key\n",
    "arr=[24,41,33,42,17]\n",
    "insertion(arr)\n",
    "print(\"The sorted array is : \" , arr)"
   ]
  },
  {
   "cell_type": "code",
   "execution_count": 21,
   "id": "459f31ef-5341-4e03-bcb8-88f7f0ad0af6",
   "metadata": {},
   "outputs": [
    {
     "name": "stdout",
     "output_type": "stream",
     "text": [
      "The sorted array is  [17, 24, 33, 41, 42]\n"
     ]
    }
   ],
   "source": [
    "def selection(arr):\n",
    "    n=len(arr)\n",
    "    for i in range(n-1):\n",
    "        mini=i\n",
    "        for j in range(i+1,n):\n",
    "            if arr[j]<arr[mini]:\n",
    "                mini=j\n",
    "                arr[i],arr[mini]=arr[mini],arr[i]\n",
    "arr=[24,41,33,42,17]\n",
    "selection(arr)\n",
    "print(\"The sorted array is \",arr)"
   ]
  },
  {
   "cell_type": "code",
   "execution_count": null,
   "id": "275db02e-354f-42d6-a006-ee9de249790f",
   "metadata": {},
   "outputs": [],
   "source": []
  }
 ],
 "metadata": {
  "kernelspec": {
   "display_name": "Python 3 (ipykernel)",
   "language": "python",
   "name": "python3"
  },
  "language_info": {
   "codemirror_mode": {
    "name": "ipython",
    "version": 3
   },
   "file_extension": ".py",
   "mimetype": "text/x-python",
   "name": "python",
   "nbconvert_exporter": "python",
   "pygments_lexer": "ipython3",
   "version": "3.12.4"
  }
 },
 "nbformat": 4,
 "nbformat_minor": 5
}
