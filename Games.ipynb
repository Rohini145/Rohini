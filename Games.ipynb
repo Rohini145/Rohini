{
 "cells": [
  {
   "cell_type": "code",
   "execution_count": 9,
   "id": "27f3886a-2c15-420e-8544-74ed85a6bb55",
   "metadata": {},
   "outputs": [
    {
     "name": "stdout",
     "output_type": "stream",
     "text": [
      "Winning rules of the game ROCK PAPER SCISSORS are:\n",
      "Rock vs Paper -> Paper wins \n",
      "Rock vs Scissors -> Rock wins \n",
      "Paper vs Scissors -> Scissors wins \n",
      "\n",
      "Enter your choice \n",
      " 1 - Rock \n",
      " 2 - Paper \n",
      " 3 - Scissors \n",
      "\n"
     ]
    },
    {
     "name": "stdin",
     "output_type": "stream",
     "text": [
      "Enter your choice:  1\n"
     ]
    },
    {
     "name": "stdout",
     "output_type": "stream",
     "text": [
      "User choice is: Rock\n",
      "Now it's Computer's Turn...\n",
      "Computer choice is: Paper\n",
      "Rock vs Paper\n",
      "<== Computer wins! ==>\n",
      "Do you want to play again? (Y/N)\n"
     ]
    },
    {
     "name": "stdin",
     "output_type": "stream",
     "text": [
      " n\n"
     ]
    },
    {
     "name": "stdout",
     "output_type": "stream",
     "text": [
      "Thanks for playing!\n"
     ]
    }
   ],
   "source": [
    "import random\n",
    "\n",
    "# Print multiline instruction\n",
    "print('Winning rules of the game ROCK PAPER SCISSORS are:\\n'\n",
    "      + \"Rock vs Paper -> Paper wins \\n\"\n",
    "      + \"Rock vs Scissors -> Rock wins \\n\"\n",
    "      + \"Paper vs Scissors -> Scissors wins \\n\")\n",
    "\n",
    "while True:\n",
    "\n",
    "    print(\"Enter your choice \\n 1 - Rock \\n 2 - Paper \\n 3 - Scissors \\n\")\n",
    "\n",
    "    # Take the input from user\n",
    "    choice = int(input(\"Enter your choice: \"))\n",
    "\n",
    "    # Looping until user enters valid input\n",
    "    while choice > 3 or choice < 1:\n",
    "        choice = int(input('Enter a valid choice please : '))\n",
    "\n",
    "    # Initialize value of choice_name variable corresponding to the choice value\n",
    "    if choice == 1:\n",
    "        choice_name = 'Rock'\n",
    "    elif choice == 2:\n",
    "        choice_name = 'Paper'\n",
    "    else:\n",
    "        choice_name = 'Scissors'\n",
    "\n",
    "    # Print user choice\n",
    "    print('User choice is:', choice_name)\n",
    "    print(\"Now it's Computer's Turn...\")\n",
    "\n",
    "    # Computer chooses randomly any number among 1, 2, and 3\n",
    "    comp_choice = random.randint(1, 3)\n",
    "\n",
    "    # Initialize value of comp_choice_name variable corresponding to the choice value\n",
    "    if comp_choice == 1:\n",
    "        comp_choice_name = 'Rock'\n",
    "    elif comp_choice == 2:\n",
    "        comp_choice_name = 'Paper'\n",
    "    else:\n",
    "        comp_choice_name = 'Scissors'\n",
    "\n",
    "    print(\"Computer choice is:\", comp_choice_name)\n",
    "    print(choice_name, 'vs', comp_choice_name)\n",
    "\n",
    "    # Determine the winner\n",
    "    if choice == comp_choice:\n",
    "        result = \"DRAW\"\n",
    "    elif (choice == 1 and comp_choice == 2) or (comp_choice == 1 and choice == 2):\n",
    "        result = 'Paper'\n",
    "    elif (choice == 1 and comp_choice == 3) or (comp_choice == 1 and choice == 3):\n",
    "        result = 'Rock'\n",
    "    elif (choice == 2 and comp_choice == 3) or (comp_choice == 2 and choice == 3):\n",
    "        result = 'Scissors'\n",
    "\n",
    "    # Print the result\n",
    "    if result == \"DRAW\":\n",
    "        print(\"<== It's a tie! ==>\")\n",
    "    elif result == choice_name:\n",
    "        print(\"<== User wins! ==>\")\n",
    "    else:\n",
    "        print(\"<== Computer wins! ==>\")\n",
    "\n",
    "    # Ask if the user wants to play again\n",
    "    print(\"Do you want to play again? (Y/N)\")\n",
    "    ans = input().lower()\n",
    "    if ans == 'n':\n",
    "        break\n",
    "\n",
    "# After coming out of the while loop, print thanks for playing\n",
    "print(\"Thanks for playing!\")"
   ]
  },
  {
   "cell_type": "code",
   "execution_count": 10,
   "id": "275af124-17f9-4d51-b5de-33ca2e871179",
   "metadata": {},
   "outputs": [
    {
     "name": "stdin",
     "output_type": "stream",
     "text": [
      "Enter any number:  7\n"
     ]
    },
    {
     "name": "stdout",
     "output_type": "stream",
     "text": [
      "Too low\n"
     ]
    },
    {
     "name": "stdin",
     "output_type": "stream",
     "text": [
      "Enter number again:  9\n"
     ]
    },
    {
     "name": "stdout",
     "output_type": "stream",
     "text": [
      "Too high!\n"
     ]
    },
    {
     "name": "stdin",
     "output_type": "stream",
     "text": [
      "Enter number again:  8\n"
     ]
    },
    {
     "name": "stdout",
     "output_type": "stream",
     "text": [
      "you guessed it right!!\n"
     ]
    }
   ],
   "source": [
    "import random\n",
    "n = random.randrange(1,10)\n",
    "guess = int(input(\"Enter any number: \"))\n",
    "while n!= guess:\n",
    "    if guess < n:\n",
    "        print(\"Too low\")\n",
    "        guess = int(input(\"Enter number again: \"))\n",
    "    elif guess > n:\n",
    "        print(\"Too high!\")\n",
    "        guess = int(input(\"Enter number again: \"))\n",
    "    else:\n",
    "      break\n",
    "print(\"you guessed it right!!\")"
   ]
  },
  {
   "cell_type": "code",
   "execution_count": 14,
   "id": "b88e38f3-1d31-4b09-9233-884b0f67da7f",
   "metadata": {},
   "outputs": [
    {
     "name": "stdout",
     "output_type": "stream",
     "text": [
      "Welcome to the Magic 8-Ball!\n"
     ]
    },
    {
     "name": "stdin",
     "output_type": "stream",
     "text": [
      "Ask the Magic 8-Ball a question (or type 'quit' to exit):  do you read??\n"
     ]
    },
    {
     "name": "stdout",
     "output_type": "stream",
     "text": [
      "Magic 8-Ball says: My sources say no.\n",
      "\n"
     ]
    },
    {
     "name": "stdin",
     "output_type": "stream",
     "text": [
      "Ask the Magic 8-Ball a question (or type 'quit' to exit):  quit\n"
     ]
    },
    {
     "name": "stdout",
     "output_type": "stream",
     "text": [
      "Goodbye! May your future be bright!\n"
     ]
    }
   ],
   "source": [
    "import random\n",
    "\n",
    "def magic_8_ball():\n",
    "    # Predefined responses for the Magic 8 Ball\n",
    "    responses = [\n",
    "        \"It is certain.\",\n",
    "        \"It is decidedly so.\",\n",
    "        \"Without a doubt.\",\n",
    "        \"Yes, definitely.\",\n",
    "        \"You may rely on it.\",\n",
    "        \"As I see it, yes.\",\n",
    "        \"Most likely.\",\n",
    "        \"Outlook good.\",\n",
    "        \"Yes.\",\n",
    "        \"Signs point to yes.\",\n",
    "        \"Reply hazy, try again.\",\n",
    "        \"Ask again later.\",\n",
    "        \"Better not tell you now.\",\n",
    "        \"Cannot predict now.\",\n",
    "        \"Concentrate and ask again.\",\n",
    "        \"Don't count on it.\",\n",
    "        \"My reply is no.\",\n",
    "        \"My sources say no.\",\n",
    "        \"Outlook not so good.\",\n",
    "        \"Very doubtful.\"\n",
    "    ]\n",
    "\n",
    "    print(\"Welcome to the Magic 8-Ball!\")\n",
    "\n",
    "    while True:\n",
    "        # Ask the user for a question\n",
    "        question = input(\"Ask the Magic 8-Ball a question (or type 'quit' to exit): \")\n",
    "\n",
    "        if question.lower() == 'quit':\n",
    "            print(\"Goodbye! May your future be bright!\")\n",
    "            break\n",
    "\n",
    "        # Randomly select a response\n",
    "        answer = random.choice(responses)\n",
    "\n",
    "        # Print the response\n",
    "        print(f\"Magic 8-Ball says: {answer}\\n\")\n",
    "\n",
    "# Run the Magic 8-Ball program\n",
    "if __name__ == \"__main__\":\n",
    "  magic_8_ball()\n"
   ]
  },
  {
   "cell_type": "code",
   "execution_count": 15,
   "id": "50191ee3-2f3b-4011-be7b-0bdf99c06260",
   "metadata": {},
   "outputs": [
    {
     "name": "stdout",
     "output_type": "stream",
     "text": [
      "Welcome to the Number Guessing Game!\n",
      "You have a limited number of attempts to guess the number correctly.\n",
      "I have chosen a number between 1 and 100.\n"
     ]
    },
    {
     "name": "stdin",
     "output_type": "stream",
     "text": [
      "Attempt 1/5 - Enter your guess:  5\n"
     ]
    },
    {
     "name": "stdout",
     "output_type": "stream",
     "text": [
      "Too low! Try again.\n"
     ]
    },
    {
     "name": "stdin",
     "output_type": "stream",
     "text": [
      "Attempt 2/5 - Enter your guess:  4\n"
     ]
    },
    {
     "name": "stdout",
     "output_type": "stream",
     "text": [
      "Too low! Try again.\n"
     ]
    },
    {
     "name": "stdin",
     "output_type": "stream",
     "text": [
      "Attempt 3/5 - Enter your guess:  77\n"
     ]
    },
    {
     "name": "stdout",
     "output_type": "stream",
     "text": [
      "Too high! Try again.\n"
     ]
    },
    {
     "name": "stdin",
     "output_type": "stream",
     "text": [
      "Attempt 4/5 - Enter your guess:  55\n"
     ]
    },
    {
     "name": "stdout",
     "output_type": "stream",
     "text": [
      "Too low! Try again.\n"
     ]
    },
    {
     "name": "stdin",
     "output_type": "stream",
     "text": [
      "Attempt 5/5 - Enter your guess:  66\n"
     ]
    },
    {
     "name": "stdout",
     "output_type": "stream",
     "text": [
      "Too low! Try again.\n",
      "Sorry, you've used all your attempts. The number was 70.\n",
      "Your total points: 50\n"
     ]
    }
   ],
   "source": [
    "import random\n",
    "\n",
    "def number_guessing_game():\n",
    "    print(\"Welcome to the Number Guessing Game!\")\n",
    "    print(\"You have a limited number of attempts to guess the number correctly.\")\n",
    "\n",
    "    # Initialize the game\n",
    "    points = 100  # Starting points\n",
    "    max_attempts = 5  # Maximum number of attempts\n",
    "    number_to_guess = random.randint(1, 100)  # Number to guess\n",
    "\n",
    "    print(\"I have chosen a number between 1 and 100.\")\n",
    "\n",
    "    # Main game loop\n",
    "    for attempt in range(1, max_attempts + 1):\n",
    "        try:\n",
    "            guess = int(input(f\"Attempt {attempt}/{max_attempts} - Enter your guess: \"))\n",
    "\n",
    "            if guess < 1 or guess > 100:\n",
    "                print(\"Please guess a number between 1 and 100.\")\n",
    "                continue\n",
    "\n",
    "            if guess == number_to_guess:\n",
    "                print(f\"Congratulations! You guessed the number {number_to_guess} correctly in {attempt} attempts.\")\n",
    "                points += (max_attempts - attempt + 1) * 10  # Award bonus points\n",
    "                break\n",
    "            elif guess < number_to_guess:\n",
    "                print(\"Too low! Try again.\")\n",
    "            else:\n",
    "                print(\"Too high! Try again.\")\n",
    "\n",
    "            points -= 10  # Deduct points for a wrong guess\n",
    "\n",
    "        except ValueError:\n",
    "            print(\"Invalid input. Please enter a valid number.\")\n",
    "\n",
    "    else:\n",
    "        print(f\"Sorry, you've used all your attempts. The number was {number_to_guess}.\")\n",
    "\n",
    "    print(f\"Your total points: {points}\")\n",
    "\n",
    "if __name__ == \"__main__\":\n",
    "    number_guessing_game()\n"
   ]
  },
  {
   "cell_type": "code",
   "execution_count": 16,
   "id": "f93d45de-08d2-4700-aa15-fcc285d0c842",
   "metadata": {},
   "outputs": [
    {
     "name": "stdout",
     "output_type": "stream",
     "text": [
      "Welcome to the Dice Roller!\n"
     ]
    },
    {
     "name": "stdin",
     "output_type": "stream",
     "text": [
      "Enter the number of dice to roll (or 0 to quit):  5\n",
      "Enter the number of sides per die:  4\n"
     ]
    },
    {
     "name": "stdout",
     "output_type": "stream",
     "text": [
      "You rolled: [1, 1, 1, 1, 2]\n",
      "Total: 6\n",
      "\n"
     ]
    },
    {
     "name": "stdin",
     "output_type": "stream",
     "text": [
      "Enter the number of dice to roll (or 0 to quit):  quit\n"
     ]
    },
    {
     "name": "stdout",
     "output_type": "stream",
     "text": [
      "Invalid input. Please enter a valid number.\n"
     ]
    },
    {
     "name": "stdin",
     "output_type": "stream",
     "text": [
      "Enter the number of dice to roll (or 0 to quit):  0\n"
     ]
    },
    {
     "name": "stdout",
     "output_type": "stream",
     "text": [
      "Goodbye! Hope you enjoyed rolling the dice.\n"
     ]
    }
   ],
   "source": [
    "import random\n",
    "\n",
    "def dice_roller():\n",
    "    print(\"Welcome to the Dice Roller!\")\n",
    "\n",
    "    while True:\n",
    "        # Ask the user how many dice to roll and how many sides per die\n",
    "        try:\n",
    "            num_dice = int(input(\"Enter the number of dice to roll (or 0 to quit): \"))\n",
    "            if num_dice == 0:\n",
    "                print(\"Goodbye! Hope you enjoyed rolling the dice.\")\n",
    "                break\n",
    "\n",
    "            sides = int(input(\"Enter the number of sides per die: \"))\n",
    "            if sides < 2:\n",
    "                print(\"A die must have at least 2 sides. Please try again.\")\n",
    "                continue\n",
    "\n",
    "            # Roll the dice and display the results\n",
    "            rolls = [random.randint(1, sides) for _ in range(num_dice)]\n",
    "            print(f\"You rolled: {rolls}\")\n",
    "            print(f\"Total: {sum(rolls)}\\n\")\n",
    "\n",
    "        except ValueError:\n",
    "            print(\"Invalid input. Please enter a valid number.\")\n",
    "\n",
    "if __name__ == \"__main__\":\n",
    "    dice_roller()\n"
   ]
  },
  {
   "cell_type": "code",
   "execution_count": 17,
   "id": "1bc068b6-03fb-4315-bcdd-7e06ef8e6ce6",
   "metadata": {},
   "outputs": [
    {
     "name": "stdout",
     "output_type": "stream",
     "text": [
      "Welcome to the Odd or Even Guessing Game!\n",
      "You will guess if a randomly generated number is odd or even.\n",
      "\n",
      "Round 1/5\n"
     ]
    },
    {
     "name": "stdin",
     "output_type": "stream",
     "text": [
      "Do you think the number is Odd or Even? (Enter 'odd' or 'even'):  odd\n"
     ]
    },
    {
     "name": "stdout",
     "output_type": "stream",
     "text": [
      "Incorrect. The number was 28.\n",
      "Your current points: 90\n",
      "\n",
      "Round 2/5\n"
     ]
    },
    {
     "name": "stdin",
     "output_type": "stream",
     "text": [
      "Do you think the number is Odd or Even? (Enter 'odd' or 'even'):  odd\n"
     ]
    },
    {
     "name": "stdout",
     "output_type": "stream",
     "text": [
      "Correct! The number was 75.\n",
      "Your current points: 110\n",
      "\n",
      "Round 3/5\n"
     ]
    },
    {
     "name": "stdin",
     "output_type": "stream",
     "text": [
      "Do you think the number is Odd or Even? (Enter 'odd' or 'even'):  even\n"
     ]
    },
    {
     "name": "stdout",
     "output_type": "stream",
     "text": [
      "Incorrect. The number was 83.\n",
      "Your current points: 100\n",
      "\n",
      "Round 4/5\n"
     ]
    },
    {
     "name": "stdin",
     "output_type": "stream",
     "text": [
      "Do you think the number is Odd or Even? (Enter 'odd' or 'even'):  even\n"
     ]
    },
    {
     "name": "stdout",
     "output_type": "stream",
     "text": [
      "Correct! The number was 78.\n",
      "Your current points: 120\n",
      "\n",
      "Round 5/5\n"
     ]
    },
    {
     "name": "stdin",
     "output_type": "stream",
     "text": [
      "Do you think the number is Odd or Even? (Enter 'odd' or 'even'):  even\n"
     ]
    },
    {
     "name": "stdout",
     "output_type": "stream",
     "text": [
      "Incorrect. The number was 93.\n",
      "Your current points: 110\n",
      "\n",
      "Game Over! Your total points: 110\n"
     ]
    }
   ],
   "source": [
    "import random\n",
    "\n",
    "def odd_or_even_game():\n",
    "    print(\"Welcome to the Odd or Even Guessing Game!\")\n",
    "    print(\"You will guess if a randomly generated number is odd or even.\")\n",
    "\n",
    "    points = 100  # Starting points\n",
    "    max_rounds = 5  # Number of rounds to play\n",
    "\n",
    "    for round_num in range(1, max_rounds + 1):\n",
    "        print(f\"\\nRound {round_num}/{max_rounds}\")\n",
    "\n",
    "        # Generate a random number\n",
    "        number = random.randint(1, 100)\n",
    "\n",
    "        # Ask the player to guess odd or even\n",
    "        player_guess = input(\"Do you think the number is Odd or Even? (Enter 'odd' or 'even'): \").strip().lower()\n",
    "\n",
    "        if player_guess not in ['odd', 'even']:\n",
    "            print(\"Invalid input. Please enter 'odd' or 'even'.\")\n",
    "            continue\n",
    "\n",
    "        # Determine if the number is odd or even\n",
    "        is_even = number % 2 == 0\n",
    "\n",
    "        # Check the player's guess\n",
    "        if (is_even and player_guess == 'even') or (not is_even and player_guess == 'odd'):\n",
    "            print(f\"Correct! The number was {number}.\")\n",
    "            points += 20  # Award points for a correct guess\n",
    "        else:\n",
    "            print(f\"Incorrect. The number was {number}.\")\n",
    "            points -= 10  # Deduct points for a wrong guess\n",
    "\n",
    "        print(f\"Your current points: {points}\")\n",
    "\n",
    "    print(f\"\\nGame Over! Your total points: {points}\")\n",
    "\n",
    "if __name__ == \"__main__\":\n",
    "    odd_or_even_game()\n"
   ]
  },
  {
   "cell_type": "code",
   "execution_count": 18,
   "id": "404e04bb-99c8-41da-a271-91183a55177f",
   "metadata": {},
   "outputs": [
    {
     "name": "stdout",
     "output_type": "stream",
     "text": [
      "Welcome to the Word Scramble Game!\n",
      "Unscramble the letters to form a valid word.\n",
      "\n",
      "Round 1/5\n",
      "Scrambled word: snxayt\n"
     ]
    },
    {
     "name": "stdin",
     "output_type": "stream",
     "text": [
      "Your guess:  syntax\n"
     ]
    },
    {
     "name": "stdout",
     "output_type": "stream",
     "text": [
      "Correct!\n",
      "Your current points: 120\n",
      "\n",
      "Round 2/5\n",
      "Scrambled word: naxtys\n"
     ]
    },
    {
     "name": "stdin",
     "output_type": "stream",
     "text": [
      "Your guess:  syntax\n"
     ]
    },
    {
     "name": "stdout",
     "output_type": "stream",
     "text": [
      "Correct!\n",
      "Your current points: 140\n",
      "\n",
      "Round 3/5\n",
      "Scrambled word: optyhn\n"
     ]
    },
    {
     "name": "stdin",
     "output_type": "stream",
     "text": [
      "Your guess:  python\n"
     ]
    },
    {
     "name": "stdout",
     "output_type": "stream",
     "text": [
      "Correct!\n",
      "Your current points: 160\n",
      "\n",
      "Round 4/5\n",
      "Scrambled word: xaysnt\n"
     ]
    },
    {
     "name": "stdin",
     "output_type": "stream",
     "text": [
      "Your guess:  syntax\n"
     ]
    },
    {
     "name": "stdout",
     "output_type": "stream",
     "text": [
      "Correct!\n",
      "Your current points: 180\n",
      "\n",
      "Round 5/5\n",
      "Scrambled word: antyxs\n"
     ]
    },
    {
     "name": "stdin",
     "output_type": "stream",
     "text": [
      "Your guess:  syntax\n"
     ]
    },
    {
     "name": "stdout",
     "output_type": "stream",
     "text": [
      "Correct!\n",
      "Your current points: 200\n",
      "\n",
      "Game Over! Your total points: 200\n"
     ]
    }
   ],
   "source": [
    "import random\n",
    "\n",
    "def word_scramble_game():\n",
    "    print(\"Welcome to the Word Scramble Game!\")\n",
    "    print(\"Unscramble the letters to form a valid word.\")\n",
    "\n",
    "    # List of words for the game\n",
    "    words = [\"python\", \"programming\", \"developer\", \"algorithm\", \"function\", \"variable\", \"syntax\", \"compile\", \"debug\"]\n",
    "\n",
    "    points = 100  # Starting points\n",
    "    max_rounds = 5  # Number of rounds to play\n",
    "\n",
    "    for round_num in range(1, max_rounds + 1):\n",
    "        print(f\"\\nRound {round_num}/{max_rounds}\")\n",
    "\n",
    "        # Choose a random word and scramble it\n",
    "        word = random.choice(words)\n",
    "        scrambled = list(word)\n",
    "        random.shuffle(scrambled)\n",
    "        scrambled_word = ''.join(scrambled)\n",
    "\n",
    "        print(f\"Scrambled word: {scrambled_word}\")\n",
    "\n",
    "        # Player guesses the word\n",
    "        player_guess = input(\"Your guess: \").strip().lower()\n",
    "\n",
    "        if player_guess == word:\n",
    "            print(\"Correct!\")\n",
    "            points += 20  # Award points for a correct guess\n",
    "        else:\n",
    "            print(f\"Incorrect. The correct word was: {word}\")\n",
    "            points -= 10  # Deduct points for a wrong guess\n",
    "\n",
    "        print(f\"Your current points: {points}\")\n",
    "\n",
    "    print(f\"\\nGame Over! Your total points: {points}\")\n",
    "\n",
    "if __name__ == \"__main__\":\n",
    "    word_scramble_game()\n"
   ]
  },
  {
   "cell_type": "code",
   "execution_count": 19,
   "id": "da548920-1023-4980-8c01-101faada21ed",
   "metadata": {},
   "outputs": [
    {
     "name": "stdout",
     "output_type": "stream",
     "text": [
      "Welcome to the Simple Math Quiz!\n",
      "Solve the math problems to earn points.\n",
      "\n",
      "Round 1/5\n",
      "Solve: 10 - 3\n"
     ]
    },
    {
     "name": "stdin",
     "output_type": "stream",
     "text": [
      "Your answer:  7\n"
     ]
    },
    {
     "name": "stdout",
     "output_type": "stream",
     "text": [
      "Correct!\n",
      "Your current points: 120\n",
      "\n",
      "Round 2/5\n",
      "Solve: 4 + 10\n"
     ]
    },
    {
     "name": "stdin",
     "output_type": "stream",
     "text": [
      "Your answer:  14\n"
     ]
    },
    {
     "name": "stdout",
     "output_type": "stream",
     "text": [
      "Correct!\n",
      "Your current points: 140\n",
      "\n",
      "Round 3/5\n",
      "Solve: 10 + 9\n"
     ]
    },
    {
     "name": "stdin",
     "output_type": "stream",
     "text": [
      "Your answer:  19\n"
     ]
    },
    {
     "name": "stdout",
     "output_type": "stream",
     "text": [
      "Correct!\n",
      "Your current points: 160\n",
      "\n",
      "Round 4/5\n",
      "Solve: 1 - 5\n"
     ]
    },
    {
     "name": "stdin",
     "output_type": "stream",
     "text": [
      "Your answer:  -4\n"
     ]
    },
    {
     "name": "stdout",
     "output_type": "stream",
     "text": [
      "Correct!\n",
      "Your current points: 180\n",
      "\n",
      "Round 5/5\n",
      "Solve: 8 + 7\n"
     ]
    },
    {
     "name": "stdin",
     "output_type": "stream",
     "text": [
      "Your answer:  15\n"
     ]
    },
    {
     "name": "stdout",
     "output_type": "stream",
     "text": [
      "Correct!\n",
      "Your current points: 200\n",
      "\n",
      "Game Over! Your total points: 200\n"
     ]
    }
   ],
   "source": [
    "import random\n",
    "\n",
    "def simple_math_quiz():\n",
    "    print(\"Welcome to the Simple Math Quiz!\")\n",
    "    print(\"Solve the math problems to earn points.\")\n",
    "\n",
    "    points = 100  # Starting points\n",
    "    max_rounds = 5  # Number of rounds to play\n",
    "\n",
    "    for round_num in range(1, max_rounds + 1):\n",
    "        print(f\"\\nRound {round_num}/{max_rounds}\")\n",
    "\n",
    "        # Generate a random math problem\n",
    "        num1 = random.randint(1, 10)\n",
    "        num2 = random.randint(1, 10)\n",
    "        operator = random.choice(['+', '-', '*'])\n",
    "\n",
    "        if operator == '+':\n",
    "            correct_answer = num1 + num2\n",
    "        elif operator == '-':\n",
    "            correct_answer = num1 - num2\n",
    "        elif operator == '*':\n",
    "            correct_answer = num1 * num2\n",
    "\n",
    "        print(f\"Solve: {num1} {operator} {num2}\")\n",
    "\n",
    "        try:\n",
    "            # Get player's answer\n",
    "            player_answer = int(input(\"Your answer: \"))\n",
    "\n",
    "            if player_answer == correct_answer:\n",
    "                print(\"Correct!\")\n",
    "                points += 20  # Award points for a correct answer\n",
    "            else:\n",
    "                print(f\"Incorrect. The correct answer was: {correct_answer}\")\n",
    "                points -= 10  # Deduct points for a wrong answer\n",
    "\n",
    "        except ValueError:\n",
    "            print(\"Invalid input. Please enter a number.\")\n",
    "            points -= 10  # Deduct points for invalid input\n",
    "\n",
    "        print(f\"Your current points: {points}\")\n",
    "\n",
    "    print(f\"\\nGame Over! Your total points: {points}\")\n",
    "\n",
    "if __name__ == \"__main__\":\n",
    "    simple_math_quiz()\n"
   ]
  },
  {
   "cell_type": "code",
   "execution_count": null,
   "id": "ccfe81c9-aa9a-404e-9996-785855177509",
   "metadata": {},
   "outputs": [
    {
     "name": "stdout",
     "output_type": "stream",
     "text": [
      "Welcome to Tic Tac Toe!\n",
      "  |   |  \n",
      "-----\n",
      "  |   |  \n",
      "-----\n",
      "  |   |  \n",
      "-----\n",
      "Player X's turn.\n"
     ]
    },
    {
     "name": "stdin",
     "output_type": "stream",
     "text": [
      "Enter row (0, 1, 2):  2\n",
      "Enter column (0, 1, 2):  2\n"
     ]
    },
    {
     "name": "stdout",
     "output_type": "stream",
     "text": [
      "  |   |  \n",
      "-----\n",
      "  |   |  \n",
      "-----\n",
      "  |   | X\n",
      "-----\n",
      "Player O's turn.\n"
     ]
    },
    {
     "name": "stdin",
     "output_type": "stream",
     "text": [
      "Enter row (0, 1, 2):  1\n",
      "Enter column (0, 1, 2):  2\n"
     ]
    },
    {
     "name": "stdout",
     "output_type": "stream",
     "text": [
      "  |   |  \n",
      "-----\n",
      "  |   | O\n",
      "-----\n",
      "  |   | X\n",
      "-----\n",
      "Player X's turn.\n"
     ]
    },
    {
     "name": "stdin",
     "output_type": "stream",
     "text": [
      "Enter row (0, 1, 2):  2\n",
      "Enter column (0, 1, 2):  1\n"
     ]
    },
    {
     "name": "stdout",
     "output_type": "stream",
     "text": [
      "  |   |  \n",
      "-----\n",
      "  |   | O\n",
      "-----\n",
      "  | X | X\n",
      "-----\n",
      "Player O's turn.\n"
     ]
    },
    {
     "name": "stdin",
     "output_type": "stream",
     "text": [
      "Enter row (0, 1, 2):  0\n",
      "Enter column (0, 1, 2):  0\n"
     ]
    },
    {
     "name": "stdout",
     "output_type": "stream",
     "text": [
      "O |   |  \n",
      "-----\n",
      "  |   | O\n",
      "-----\n",
      "  | X | X\n",
      "-----\n",
      "Player X's turn.\n"
     ]
    },
    {
     "name": "stdin",
     "output_type": "stream",
     "text": [
      "Enter row (0, 1, 2):  2\n",
      "Enter column (0, 1, 2):  1\n"
     ]
    },
    {
     "name": "stdout",
     "output_type": "stream",
     "text": [
      "Cell is already occupied. Try again.\n",
      "O |   |  \n",
      "-----\n",
      "  |   | O\n",
      "-----\n",
      "  | X | X\n",
      "-----\n",
      "Player X's turn.\n"
     ]
    }
   ],
   "source": [
    "def print_board(board):\n",
    "    \"\"\"Prints the current state of the Tic Tac Toe board.\"\"\"\n",
    "    for row in board:\n",
    "        print(\" | \".join(row))\n",
    "        print(\"-\" * 5)\n",
    "\n",
    "def check_winner(board):\n",
    "    \"\"\"Checks if there's a winner or if the game is a draw.\"\"\"\n",
    "    # Check rows and columns\n",
    "    for i in range(3):\n",
    "        if board[i][0] == board[i][1] == board[i][2] != ' ':\n",
    "            return board[i][0]  # Row winner\n",
    "        if board[0][i] == board[1][i] == board[2][i] != ' ':\n",
    "            return board[0][i]  # Column winner\n",
    "\n",
    "    # Check diagonals\n",
    "    if board[0][0] == board[1][1] == board[2][2] != ' ':\n",
    "        return board[0][0]\n",
    "    if board[0][2] == board[1][1] == board[2][0] != ' ':\n",
    "        return board[0][2]\n",
    "\n",
    "    # Check for draw or continue\n",
    "    for row in board:\n",
    "        if ' ' in row:\n",
    "            return None  # Game is still ongoing\n",
    "    return 'Draw'\n",
    "\n",
    "def tic_tac_toe():\n",
    "    \"\"\"Runs the Tic Tac Toe game.\"\"\"\n",
    "    print(\"Welcome to Tic Tac Toe!\")\n",
    "    board = [[' ' for _ in range(3)] for _ in range(3)]  # Initialize empty board\n",
    "    players = ['X', 'O']\n",
    "    turn = 0  # Start with player 'X'\n",
    "\n",
    "    while True:\n",
    "        print_board(board)\n",
    "        current_player = players[turn % 2]\n",
    "        print(f\"Player {current_player}'s turn.\")\n",
    "\n",
    "        # Get player input\n",
    "        try:\n",
    "            row = int(input(\"Enter row (0, 1, 2): \"))\n",
    "            col = int(input(\"Enter column (0, 1, 2): \"))\n",
    "\n",
    "            if row not in range(3) or col not in range(3):\n",
    "                print(\"Invalid input. Row and column must be 0, 1, or 2.\")\n",
    "                continue\n",
    "\n",
    "            if board[row][col] != ' ':\n",
    "                print(\"Cell is already occupied. Try again.\")\n",
    "                continue\n",
    "\n",
    "            # Make the move\n",
    "            board[row][col] = current_player\n",
    "\n",
    "            # Check for winner\n",
    "            result = check_winner(board)\n",
    "            if result:\n",
    "                print_board(board)\n",
    "                if result == 'Draw':\n",
    "                    print(\"The game is a draw!\")\n",
    "                else:\n",
    "                    print(f\"Player {result} wins!\")\n",
    "                break\n",
    "\n",
    "            turn += 1\n",
    "\n",
    "        except ValueError:\n",
    "            print(\"Invalid input. Please enter numbers only.\")\n",
    "\n",
    "if __name__ == \"__main__\":\n",
    "    tic_tac_toe()\n"
   ]
  },
  {
   "cell_type": "code",
   "execution_count": null,
   "id": "18fc8a4d-8be4-4cc3-afcb-0101cf41bf6f",
   "metadata": {},
   "outputs": [],
   "source": []
  }
 ],
 "metadata": {
  "kernelspec": {
   "display_name": "Python 3 (ipykernel)",
   "language": "python",
   "name": "python3"
  },
  "language_info": {
   "codemirror_mode": {
    "name": "ipython",
    "version": 3
   },
   "file_extension": ".py",
   "mimetype": "text/x-python",
   "name": "python",
   "nbconvert_exporter": "python",
   "pygments_lexer": "ipython3",
   "version": "3.12.4"
  }
 },
 "nbformat": 4,
 "nbformat_minor": 5
}
