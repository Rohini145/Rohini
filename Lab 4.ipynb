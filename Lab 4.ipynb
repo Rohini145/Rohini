{
 "cells": [
  {
   "cell_type": "code",
   "execution_count": 1,
   "id": "009d4ab7-e9b2-4976-b718-2bed60bd76c8",
   "metadata": {},
   "outputs": [
    {
     "name": "stdin",
     "output_type": "stream",
     "text": [
      "Enter the first number:  2\n",
      "Enter the second number:  3\n",
      "Enter the third number:  1\n"
     ]
    },
    {
     "name": "stdout",
     "output_type": "stream",
     "text": [
      "The largest number is: 3.0\n"
     ]
    }
   ],
   "source": [
    "num1 = float(input(\"Enter the first number: \"))\n",
    "num2 = float(input(\"Enter the second number: \"))\n",
    "num3 = float(input(\"Enter the third number: \"))\n",
    "# Step 3: Compare num1 and num2\n",
    "if num1 > num2:\n",
    "    if num1 > num3:\n",
    "        print(\"The largest number is:\", num1)\n",
    "    else:\n",
    "        print(\"The largest number is:\", num3)\n",
    "else:\n",
    "# Step 4: Compare num2 and num3\n",
    "    if num2 > num3:\n",
    "        print(\"The largest number is:\", num2)\n",
    "    else:\n",
    "        print(\"The largest number is:\", num3)"
   ]
  },
  {
   "cell_type": "code",
   "execution_count": 2,
   "id": "0e553401-a0be-464f-a01c-5203e6673442",
   "metadata": {},
   "outputs": [
    {
     "name": "stdin",
     "output_type": "stream",
     "text": [
      "Enter a positive integer value for N:  4\n"
     ]
    },
    {
     "name": "stdout",
     "output_type": "stream",
     "text": [
      "2\n"
     ]
    }
   ],
   "source": [
    "n = int(input(\"Enter a positive integer value for N: \"))\n",
    "# Step 3: Initialize I to 2 (since we exclude 1)\n",
    "I = 2\n",
    "while I < n:\n",
    "    if I % 2 == 0:\n",
    "        print(I) # Display I\n",
    "    I = I + 1"
   ]
  },
  {
   "cell_type": "code",
   "execution_count": 4,
   "id": "df803afa-cc88-4896-8e71-3cf7d0ac85e6",
   "metadata": {},
   "outputs": [
    {
     "name": "stdin",
     "output_type": "stream",
     "text": [
      "Enter a positive integer value for N:  5\n"
     ]
    },
    {
     "name": "stdout",
     "output_type": "stream",
     "text": [
      "3\n"
     ]
    }
   ],
   "source": [
    "n = int(input(\"Enter a positive integer value for N: \"))\n",
    "# Step 3: Initialize I to 2 (since we exclude 1)\n",
    "I = 2\n",
    "# Step 4: Loop until I >= N (50 should also be excluded)\n",
    "while I < n:\n",
    "    if I % 2 == 1:\n",
    "        print(I) # Display I\n",
    "# Step 6: Increment I by 1\n",
    "    I = I + 1"
   ]
  },
  {
   "cell_type": "code",
   "execution_count": 6,
   "id": "5ba527e8-542c-4e55-94cd-dc099870ece4",
   "metadata": {},
   "outputs": [
    {
     "name": "stdin",
     "output_type": "stream",
     "text": [
      "Enter the value of N:  6\n"
     ]
    },
    {
     "name": "stdout",
     "output_type": "stream",
     "text": [
      "The sum of the series 1 + 2 + ... + N is: 21\n"
     ]
    }
   ],
   "source": [
    "N = int(input(\"Enter the value of N: \"))\n",
    "# Step-3: Initialize variables\n",
    "I = 1\n",
    "SUM = 0\n",
    "# Step-4 to Step-7: Loop to calculate the sum of the series\n",
    "while True:\n",
    "    if I > N: # Check if I is greater than N\n",
    "        break\n",
    "    else:\n",
    "        SUM = SUM + I # Add I to SUM\n",
    "        I = I + 1 # Increment I\n",
    "# Step-8: Display the sum\n",
    "print(\"The sum of the series 1 + 2 + ... + N is:\", SUM)\n"
   ]
  },
  {
   "cell_type": "code",
   "execution_count": 7,
   "id": "f06c3f00-2573-411a-83f7-e3b3412046a3",
   "metadata": {},
   "outputs": [
    {
     "name": "stdin",
     "output_type": "stream",
     "text": [
      "Enter the value of N (positive odd integer):  3\n"
     ]
    },
    {
     "name": "stdout",
     "output_type": "stream",
     "text": [
      "The sum of the series 1 + 3 + 5 + ... + N is: 4\n"
     ]
    }
   ],
   "source": [
    "N = int(input(\"Enter the value of N (positive odd integer): \"))\n",
    "# Step-3: Initialize variables\n",
    "I = 1\n",
    "SUM = 0\n",
    "# Step-4 to Step-7: Loop to calculate the sum of the odd series\n",
    "while True:\n",
    "    if I > N: # Check if I is greater than N\n",
    "        break\n",
    "    else:\n",
    "        SUM = SUM + I # Add I to SUM\n",
    "        I = I + 2 # Increment I by 2 to get the next odd number\n",
    "# Step-8: Display the sum\n",
    "print(\"The sum of the series 1 + 3 + 5 + ... + N is:\", SUM)"
   ]
  },
  {
   "cell_type": "code",
   "execution_count": 8,
   "id": "6cc4bab2-2701-4a42-a3dd-31a5bf15b3dd",
   "metadata": {},
   "outputs": [
    {
     "name": "stdin",
     "output_type": "stream",
     "text": [
      "Enter the value of N:  8\n",
      "Enter the value of X:  5\n"
     ]
    },
    {
     "name": "stdout",
     "output_type": "stream",
     "text": [
      "The sum of the series 1 - X + X^2 - X^3 + ... + (-1)^N * X^N is: 325521\n"
     ]
    }
   ],
   "source": [
    "N = int(input(\"Enter the value of N: \"))\n",
    "X = int(input(\"Enter the value of X: \"))\n",
    "# Step-3: Initialize variables\n",
    "I = 0 # Start from 0 to include the first term (X^0 = 1)\n",
    "SUM = 0 # Initialize the sum\n",
    "TERM = 1 # TERM starts as 1 since X^0 = 1\n",
    "# Step-4 to Step-8: Loop to calculate the sum of the series 1 - X + X^2 - X^3 + ... + (-1)^N * X^N\n",
    "while True:\n",
    "    if I > N: # Check if I is greater than N\n",
    "        break\n",
    "    else:\n",
    "        SUM = SUM + TERM # Add the current TERM to the SUM\n",
    "        TERM = -TERM * X # Update TERM by multiplying it by -X (alternates sign and increases power)\n",
    "        I = I + 1 # Increment I\n",
    "# Step-9: Display the sum\n",
    "print(\"The sum of the series 1 - X + X^2 - X^3 + ... + (-1)^N * X^N is:\", SUM)\n"
   ]
  },
  {
   "cell_type": "code",
   "execution_count": 9,
   "id": "481f9458-d37c-43eb-9f76-fa519e1cf587",
   "metadata": {},
   "outputs": [
    {
     "name": "stdin",
     "output_type": "stream",
     "text": [
      "Enter the value of N:  7\n",
      "Enter the value of X:  2\n"
     ]
    },
    {
     "name": "stdout",
     "output_type": "stream",
     "text": [
      "The sum of the series 1 - 2X + 3X^2 - 4X^3 + ... + N*X^(N-1) is: 313.0\n"
     ]
    }
   ],
   "source": [
    "N = int(input(\"Enter the value of N: \"))\n",
    "X = float(input(\"Enter the value of X: \"))\n",
    "# Step-3: Initialize variables\n",
    "I = 1 # Start from 1 since the first term is 1*X^0\n",
    "SUM = 0 # Initialize the sum\n",
    "TERM = 1 # TERM starts as 1 since 1*X^0 = 1\n",
    "# Step-4 to Step-8: Loop to calculate the sum of the series 1 - 2X + 3X^2 - 4X^3 + ... + N*X^(N-1)\n",
    "while True:\n",
    "    if I > N: # Check if I is greater than N\n",
    "        break\n",
    "    else:\n",
    "        SUM = SUM + TERM # Add the current TERM to the SUM\n",
    "# Update TERM by multiplying by X^(I-1) and alternating sign\n",
    "        TERM = (I + 1) * X**I * (-1)**I\n",
    "        I = I + 1 # Increment I\n",
    "# Step-9: Display the sum\n",
    "print(\"The sum of the series 1 - 2X + 3X^2 - 4X^3 + ... + N*X^(N-1) is:\", SUM)\n"
   ]
  },
  {
   "cell_type": "code",
   "execution_count": 10,
   "id": "1f5a23fc-0b75-4b35-8158-12bd87b0b1ce",
   "metadata": {},
   "outputs": [
    {
     "name": "stdin",
     "output_type": "stream",
     "text": [
      "Enter the first number A:  2\n",
      "Enter the second number B:  3\n"
     ]
    },
    {
     "name": "stdout",
     "output_type": "stream",
     "text": [
      "GCD of 2 and 3 is: 1\n",
      "LCM of 2 and 3 is: 6\n"
     ]
    }
   ],
   "source": [
    "A = int(input(\"Enter the first number A: \"))\n",
    "B = int(input(\"Enter the second number B: \"))\n",
    "# Step-3: Decide which is greater\n",
    "if A > B:\n",
    "    N = A\n",
    "    D = B\n",
    "else:\n",
    "    N = B\n",
    "    D = A\n",
    "# Step-4: Initialize remainder\n",
    "r = N % D\n",
    "# Step-5: Use the Euclidean algorithm to find GCD\n",
    "while r != 0:\n",
    "    N = D\n",
    "    D = r\n",
    "    r = N % D\n",
    "# Step-6: GCD is the last non-zero remainder\n",
    "gcd = D\n",
    "# Step-7: LCM is calculated using the formula lcm = (A * B) / gcd\n",
    "lcm = (A * B) // gcd # Using integer division\n",
    "# Step-8: Display GCD and LCM\n",
    "print(f\"GCD of {A} and {B} is: {gcd}\")\n",
    "print(f\"LCM of {A} and {B} is: {lcm}\")"
   ]
  },
  {
   "cell_type": "code",
   "execution_count": 11,
   "id": "d87c60ab-5ed7-40df-b33a-28e3c2eb7735",
   "metadata": {},
   "outputs": [
    {
     "name": "stdin",
     "output_type": "stream",
     "text": [
      "Enter a number to find its factorial:  5\n"
     ]
    },
    {
     "name": "stdout",
     "output_type": "stream",
     "text": [
      "The factorial of 5 is: 120\n"
     ]
    }
   ],
   "source": [
    "n = int(input(\"Enter a number to find its factorial: \"))\n",
    "# Step-3: Initialize factorial value\n",
    "fact = 1\n",
    "# Step-4: Check if n is less than or equal to 0\n",
    "if n <= 0:\n",
    "    fact = 1 # By definition, 0! = 1\n",
    "else:\n",
    "# Step-5: Calculate factorial using a loop\n",
    "    i = 1\n",
    "    while i <= n:\n",
    "        fact = fact * i\n",
    "        i = i + 1 # Move to the next number\n",
    "# Step-6: Display the factorial value\n",
    "print(f\"The factorial of {n} is: {fact}\")"
   ]
  },
  {
   "cell_type": "code",
   "execution_count": 12,
   "id": "6c392aa8-ea33-456f-bcbe-240fd77380f7",
   "metadata": {},
   "outputs": [
    {
     "name": "stdin",
     "output_type": "stream",
     "text": [
      "Enter a number to find its divisors:  12\n"
     ]
    },
    {
     "name": "stdout",
     "output_type": "stream",
     "text": [
      "1\n",
      "2\n",
      "3\n",
      "4\n",
      "6\n"
     ]
    }
   ],
   "source": [
    "N = int(input(\"Enter a number to find its divisors: \"))\n",
    "# Step-3: Initialize D to 1\n",
    "D = 1\n",
    "# Step-4: Use a while loop to find divisors\n",
    "while D < N:\n",
    "    if N % D == 0:\n",
    "        print(D)\n",
    "# Step-4.3: Increment D by 1\n",
    "    D =D+1"
   ]
  },
  {
   "cell_type": "code",
   "execution_count": null,
   "id": "2b77e20c-2bfc-4a5e-86d0-8c13d2b6d890",
   "metadata": {},
   "outputs": [],
   "source": []
  }
 ],
 "metadata": {
  "kernelspec": {
   "display_name": "Python 3 (ipykernel)",
   "language": "python",
   "name": "python3"
  },
  "language_info": {
   "codemirror_mode": {
    "name": "ipython",
    "version": 3
   },
   "file_extension": ".py",
   "mimetype": "text/x-python",
   "name": "python",
   "nbconvert_exporter": "python",
   "pygments_lexer": "ipython3",
   "version": "3.12.4"
  }
 },
 "nbformat": 4,
 "nbformat_minor": 5
}
