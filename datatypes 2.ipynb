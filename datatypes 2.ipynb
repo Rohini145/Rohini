{
 "cells": [
  {
   "cell_type": "code",
   "execution_count": 3,
   "id": "2982d7bf-fba8-4630-9276-7507d489dc25",
   "metadata": {},
   "outputs": [
    {
     "name": "stdout",
     "output_type": "stream",
     "text": [
      "{1, 2, 3, 4}\n"
     ]
    }
   ],
   "source": [
    "l=[1,2,3,4]\n",
    "s=set(l)\n",
    "print (s)"
   ]
  },
  {
   "cell_type": "code",
   "execution_count": 4,
   "id": "a850663a-da48-4860-9b49-1575e5338e35",
   "metadata": {},
   "outputs": [
    {
     "name": "stdout",
     "output_type": "stream",
     "text": [
      "1\n",
      "2\n"
     ]
    }
   ],
   "source": [
    "tup=(1,2,3,4,5)\n",
    "x,y,z,w,v=tup\n",
    "print(x)\n",
    "print(y)"
   ]
  },
  {
   "cell_type": "code",
   "execution_count": 6,
   "id": "9c672556-5308-4a0b-aea5-5b81d123617b",
   "metadata": {},
   "outputs": [
    {
     "name": "stdout",
     "output_type": "stream",
     "text": [
      "(1, [5, 6], 4)\n"
     ]
    }
   ],
   "source": [
    "tup=(1,[2,3],4)\n",
    "l=list(tup)\n",
    "l[1]=[5,6]\n",
    "tup=tuple(l)\n",
    "print(tup)\n"
   ]
  },
  {
   "cell_type": "code",
   "execution_count": 9,
   "id": "924490d7-9103-47c6-b8bf-cc6d8ad7d0b1",
   "metadata": {},
   "outputs": [
    {
     "name": "stdout",
     "output_type": "stream",
     "text": [
      "{1, 2, 3, 4, 5, 6}\n"
     ]
    }
   ],
   "source": [
    "s1={1,2,3}\n",
    "s2={4,5,6}\n",
    "s=s1|s2\n",
    "print(s)"
   ]
  },
  {
   "cell_type": "code",
   "execution_count": 10,
   "id": "599ef1cd-faff-4e0a-b290-43ef8f44e047",
   "metadata": {},
   "outputs": [
    {
     "name": "stdout",
     "output_type": "stream",
     "text": [
      "set()\n"
     ]
    }
   ],
   "source": [
    "s1={1,2,3}\n",
    "s2={4,5,6}\n",
    "s=s1&s2\n",
    "print(s)"
   ]
  },
  {
   "cell_type": "code",
   "execution_count": 12,
   "id": "bb5df91f-dfed-4abb-85e1-75a4e17466b6",
   "metadata": {},
   "outputs": [
    {
     "name": "stdout",
     "output_type": "stream",
     "text": [
      "set()\n"
     ]
    }
   ],
   "source": [
    "s1={1,2,3}\n",
    "s2={1,2,3}\n",
    "s=s1-s2\n",
    "print(s)"
   ]
  },
  {
   "cell_type": "code",
   "execution_count": 1,
   "id": "1c09b107-70d1-41ad-b9d8-3ea87ee70f63",
   "metadata": {},
   "outputs": [
    {
     "name": "stdout",
     "output_type": "stream",
     "text": [
      "3\n"
     ]
    }
   ],
   "source": [
    "t=(1,2,3,4)\n",
    "l=list(t)\n",
    "s=l.pop(2)\n",
    "print(s)"
   ]
  },
  {
   "cell_type": "code",
   "execution_count": 2,
   "id": "e6034ab2-fd7b-4131-9062-459771917c55",
   "metadata": {},
   "outputs": [
    {
     "name": "stdout",
     "output_type": "stream",
     "text": [
      "()\n"
     ]
    }
   ],
   "source": [
    "t=(1,2,3,4)\n",
    "l=list(t)\n",
    "l.clear()\n",
    "s =tuple(l)\n",
    "print(s)"
   ]
  },
  {
   "cell_type": "code",
   "execution_count": 3,
   "id": "aa84174b-8dee-4a8d-b48b-eebd0dfe09e6",
   "metadata": {},
   "outputs": [
    {
     "name": "stdout",
     "output_type": "stream",
     "text": [
      "(1, 2, 4)\n"
     ]
    }
   ],
   "source": [
    "my_tuple = (1, 2, 3, 4)\n",
    "\n",
    "# Convert tuple to list\n",
    "temp_list = list(my_tuple)\n",
    "\n",
    "# Remove the element (e.g., remove 3)\n",
    "temp_list.remove(3)\n",
    "\n",
    "# Convert back to tuple\n",
    "my_tuple = tuple(temp_list)\n",
    "\n",
    "print(my_tuple)  # Output: (1, 2, 4)\n"
   ]
  },
  {
   "cell_type": "code",
   "execution_count": 4,
   "id": "f415eccc-f233-4bc5-9181-0c61d57cf23a",
   "metadata": {},
   "outputs": [
    {
     "name": "stdout",
     "output_type": "stream",
     "text": [
      "[1, 2, 3, 4, 5, 6, 7, 8]\n"
     ]
    }
   ],
   "source": [
    "t=(1,2,3,4)\n",
    "t1=(5,6,7,8)\n",
    "tj=[*t,*t1]\n",
    "print(tj)"
   ]
  },
  {
   "cell_type": "code",
   "execution_count": 5,
   "id": "73d9498d-d4a5-4441-8d36-a24dfe3727b8",
   "metadata": {},
   "outputs": [
    {
     "name": "stdout",
     "output_type": "stream",
     "text": [
      "{1: 'year', 2: 'dob', '3': 'place'}\n"
     ]
    }
   ],
   "source": [
    "dict={1:\"name\",2:\"dob\"}\n",
    "dict[1]=\"year\"\n",
    "dict[\"3\"]=\"place\"\n",
    "print(dict)"
   ]
  },
  {
   "cell_type": "code",
   "execution_count": 6,
   "id": "c74a2b63-b955-4d0b-aa39-c262a9f09a0c",
   "metadata": {},
   "outputs": [
    {
     "name": "stdout",
     "output_type": "stream",
     "text": [
      "The price is9.00 dollars\n"
     ]
    }
   ],
   "source": [
    "x=9\n",
    "print(f'The price is{x:.2f} dollars')"
   ]
  },
  {
   "cell_type": "code",
   "execution_count": 7,
   "id": "ed6fa7ff-afe8-4247-9ecd-8d07d57cf2b1",
   "metadata": {},
   "outputs": [
    {
     "name": "stdout",
     "output_type": "stream",
     "text": [
      "hello,'good morning' have a nice dayy\n"
     ]
    }
   ],
   "source": [
    "txt=\"hello,'good morning' have a nice dayy\"\n",
    "print(txt)"
   ]
  },
  {
   "cell_type": "code",
   "execution_count": 8,
   "id": "2519b170-205e-4955-b09e-be27c7c7743c",
   "metadata": {},
   "outputs": [
    {
     "name": "stdout",
     "output_type": "stream",
     "text": [
      "HOLA PEOPLE\n"
     ]
    }
   ],
   "source": [
    "s=\"Hola people\"\n",
    "q=s.upper()\n",
    "print(q)"
   ]
  },
  {
   "cell_type": "code",
   "execution_count": 9,
   "id": "fb0abc4d-67bb-44de-94f8-709f95c9460c",
   "metadata": {},
   "outputs": [
    {
     "name": "stdout",
     "output_type": "stream",
     "text": [
      "olleh\n"
     ]
    }
   ],
   "source": [
    "s=\"hello\"\n",
    "print(s[::-1])"
   ]
  },
  {
   "cell_type": "code",
   "execution_count": null,
   "id": "27d4ae07-c21e-41f1-be77-36393f886e40",
   "metadata": {},
   "outputs": [],
   "source": []
  }
 ],
 "metadata": {
  "kernelspec": {
   "display_name": "Python 3 (ipykernel)",
   "language": "python",
   "name": "python3"
  },
  "language_info": {
   "codemirror_mode": {
    "name": "ipython",
    "version": 3
   },
   "file_extension": ".py",
   "mimetype": "text/x-python",
   "name": "python",
   "nbconvert_exporter": "python",
   "pygments_lexer": "ipython3",
   "version": "3.12.4"
  }
 },
 "nbformat": 4,
 "nbformat_minor": 5
}
