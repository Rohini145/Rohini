{
 "cells": [
  {
   "cell_type": "code",
   "execution_count": 12,
   "id": "2efe2112-32ca-4951-8b29-f26c587fc2a1",
   "metadata": {},
   "outputs": [
    {
     "name": "stdout",
     "output_type": "stream",
     "text": [
      "[1, 'apple', 'carrot', 5]\n"
     ]
    }
   ],
   "source": [
    "l=[1,'apple','carrot']\n",
    "l.append(5)\n",
    "print(l)"
   ]
  },
  {
   "cell_type": "code",
   "execution_count": 50,
   "id": "3fcb2488-c757-4cd1-8e8e-21ed681c3f94",
   "metadata": {},
   "outputs": [
    {
     "name": "stdout",
     "output_type": "stream",
     "text": [
      "['newyork', 'canada', 'japan', 'china', 'mexico']\n",
      "['newyork', 'japan', 'mexico']\n"
     ]
    }
   ],
   "source": [
    "l=['newyork','canada','japan']\n",
    "l1=['china','mexico']\n",
    "l.extend(l1)\n",
    "print(l)\n",
    "print(l[0::2])"
   ]
  },
  {
   "cell_type": "code",
   "execution_count": 54,
   "id": "81e1b6e7-895c-444e-a119-0f13cac6ec09",
   "metadata": {},
   "outputs": [
    {
     "name": "stdout",
     "output_type": "stream",
     "text": [
      "['carrot', 'apple', 1]\n"
     ]
    }
   ],
   "source": [
    "l=[1,'apple','carrot']\n",
    "s=l[-1::-1]\n",
    "print(s)"
   ]
  },
  {
   "cell_type": "code",
   "execution_count": 41,
   "id": "5e1c8437-190b-4748-943f-f85f01567351",
   "metadata": {},
   "outputs": [
    {
     "name": "stdout",
     "output_type": "stream",
     "text": [
      "{1, 2, 3}\n"
     ]
    }
   ],
   "source": [
    "t=(1,2,3,3)\n",
    "s=set(t)\n",
    "print(s)"
   ]
  },
  {
   "cell_type": "code",
   "execution_count": 32,
   "id": "e30e7903-42b7-4918-80ef-54796fb3ff4c",
   "metadata": {},
   "outputs": [
    {
     "name": "stdout",
     "output_type": "stream",
     "text": [
      "[10, 20, 25, 30, 40, 50]\n"
     ]
    }
   ],
   "source": [
    "nums=[10,20,30,40,50]\n",
    "nums.insert(2,25)\n",
    "print(nums)"
   ]
  },
  {
   "cell_type": "code",
   "execution_count": 1,
   "id": "c187d093-7d00-4f35-a8c0-6a529b948578",
   "metadata": {},
   "outputs": [
    {
     "name": "stdout",
     "output_type": "stream",
     "text": [
      "('apple', 'banana', 'cherry')\n",
      "('apple', 'banana', 'cherry')\n",
      "('apple', 'banana', 'cherry')\n"
     ]
    }
   ],
   "source": [
    "thistuple = (\"apple\",\"banana\",\"cherry\")\n",
    "i=0\n",
    "while i<len(thistuple):\n",
    "    print(thistuple)\n",
    "    i=i+1"
   ]
  },
  {
   "cell_type": "code",
   "execution_count": 2,
   "id": "fe6fca9f-4c0e-49b6-a668-d9a0478a2c0a",
   "metadata": {},
   "outputs": [
    {
     "name": "stdout",
     "output_type": "stream",
     "text": [
      "jashwanth\n",
      "jishnu\n"
     ]
    }
   ],
   "source": [
    "list=[\"sanjana\",\"jashwanth\",\"jishnu\",\"mrunali\",\"snehitha\",\"ruhika\"]\n",
    "for i in list:\n",
    "    if i[0]==\"j\":\n",
    "        print(i)\n",
    " \n",
    " \n",
    "    "
   ]
  },
  {
   "cell_type": "code",
   "execution_count": 3,
   "id": "df9dacad-d686-4a37-bb4e-80088e79127d",
   "metadata": {},
   "outputs": [
    {
     "name": "stdout",
     "output_type": "stream",
     "text": [
      "3\n"
     ]
    }
   ],
   "source": [
    "string=\"programming\"\n",
    "count=0\n",
    "vowel=\"AEIOUaeiou\"\n",
    "for i in string:\n",
    "    if i in vowel:\n",
    "        count+=1\n",
    "print(count)    "
   ]
  },
  {
   "cell_type": "code",
   "execution_count": 4,
   "id": "fdb7fa49-f40d-4d88-94a2-70b403981ef7",
   "metadata": {},
   "outputs": [
    {
     "name": "stdout",
     "output_type": "stream",
     "text": [
      "3\n"
     ]
    }
   ],
   "source": [
    "string=\"programming\"\n",
    "vowel=\"AEIOUaeiou\"\n",
    "count=sum(1 for char in string if char in vowel)\n",
    "print(count)"
   ]
  },
  {
   "cell_type": "code",
   "execution_count": 5,
   "id": "a48e6665-165a-4fc0-a053-faa294cba1e7",
   "metadata": {},
   "outputs": [
    {
     "name": "stdout",
     "output_type": "stream",
     "text": [
      "6\n"
     ]
    }
   ],
   "source": [
    "string=\"python is a popular programming language\"\n",
    "c=string.split(\" \")\n",
    "d=len(c)\n",
    "print(d)"
   ]
  },
  {
   "cell_type": "code",
   "execution_count": 6,
   "id": "401635c8-45c3-4cc0-b4b9-f8f71f414a14",
   "metadata": {},
   "outputs": [
    {
     "name": "stdout",
     "output_type": "stream",
     "text": [
      "[]\n"
     ]
    }
   ],
   "source": [
    "l=[\"red\",\"orange\",\"yellow\"]\n",
    "l.clear()\n",
    "print (l)"
   ]
  },
  {
   "cell_type": "code",
   "execution_count": 7,
   "id": "43587013-4fd9-4ff6-a8fa-6ae3a7948e73",
   "metadata": {},
   "outputs": [
    {
     "name": "stdout",
     "output_type": "stream",
     "text": [
      "[1, 2, 3, 4, 5, 6, 7, 8, 9]\n"
     ]
    }
   ],
   "source": [
    "mat = [[1, 2, 3], [4, 5, 6], [7, 8, 9]]\n",
    "\n",
    "res = [val for row in mat for val in row]\n",
    "\n",
    "print(res)\n"
   ]
  },
  {
   "cell_type": "code",
   "execution_count": 8,
   "id": "659fbcc2-253a-477e-a6ba-0c0187380138",
   "metadata": {},
   "outputs": [
    {
     "name": "stdout",
     "output_type": "stream",
     "text": [
      "{1, 2, 3, 4}\n"
     ]
    }
   ],
   "source": [
    "tuple=(1,2,3,4)\n",
    "y=set(tuple)\n",
    "print(y)"
   ]
  },
  {
   "cell_type": "code",
   "execution_count": 9,
   "id": "95c135ae-072a-4e8c-958a-494b249d03d8",
   "metadata": {},
   "outputs": [
    {
     "name": "stdout",
     "output_type": "stream",
     "text": [
      "[3, 5, 6, 7, 32, 56]\n"
     ]
    }
   ],
   "source": [
    "k=[5,6,32,56,7,3]\n",
    "temp=0\n",
    "for i in range(0,len(k)-1):\n",
    "    for j in range(i,len(k)):\n",
    "        if k[i]>k[j]:\n",
    "            temp=k[i]\n",
    "            k[i]=k[j]\n",
    "            k[j]=temp\n",
    "print(k)"
   ]
  },
  {
   "cell_type": "code",
   "execution_count": null,
   "id": "e9e5f20f-912e-4662-a5a3-f35a2f41a22b",
   "metadata": {},
   "outputs": [],
   "source": []
  }
 ],
 "metadata": {
  "kernelspec": {
   "display_name": "Python 3 (ipykernel)",
   "language": "python",
   "name": "python3"
  },
  "language_info": {
   "codemirror_mode": {
    "name": "ipython",
    "version": 3
   },
   "file_extension": ".py",
   "mimetype": "text/x-python",
   "name": "python",
   "nbconvert_exporter": "python",
   "pygments_lexer": "ipython3",
   "version": "3.12.4"
  }
 },
 "nbformat": 4,
 "nbformat_minor": 5
}
