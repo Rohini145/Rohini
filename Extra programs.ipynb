{
 "cells": [
  {
   "cell_type": "code",
   "execution_count": 1,
   "id": "15a76897-941c-40f4-938e-e5e041aa9f3c",
   "metadata": {},
   "outputs": [
    {
     "name": "stdout",
     "output_type": "stream",
     "text": [
      "1 2 3 \n",
      "1 3 2 \n",
      "2 1 3 \n",
      "2 3 1 \n",
      "3 1 2 \n",
      "3 2 1 \n"
     ]
    }
   ],
   "source": [
    "from itertools import permutations\n",
    "lst = [1, 2, 3]\n",
    "perms = list(permutations(lst))\n",
    "for perm in perms:\n",
    "    for item in perm:\n",
    "        print(item, end=' ')\n",
    "    print()\n"
   ]
  },
  {
   "cell_type": "code",
   "execution_count": 2,
   "id": "3c93c5af-08d5-4a38-ace9-6dd689d68565",
   "metadata": {},
   "outputs": [
    {
     "name": "stdout",
     "output_type": "stream",
     "text": [
      " 1  2  3  4  5 \n",
      " 2  4  6  8 10 \n",
      " 3  6  9 12 15 \n",
      " 4  8 12 16 20 \n",
      " 5 10 15 20 25 \n"
     ]
    }
   ],
   "source": [
    "N = 5\n",
    "for i in range(1, N+1):\n",
    "    for j in range(1, N+1):\n",
    "        print(f\"{i*j:2}\", end=\" \")\n",
    "    print()"
   ]
  },
  {
   "cell_type": "code",
   "execution_count": 4,
   "id": "05e31f3d-45c7-4ffc-ad79-75e8c2b3c1ea",
   "metadata": {},
   "outputs": [
    {
     "name": "stdout",
     "output_type": "stream",
     "text": [
      "Prime factors of 60: [2, 2, 3, 5]\n",
      "Prime factors of 75: [3, 5, 5]\n",
      "Prime factors of 90: [2, 3, 3, 5]\n"
     ]
    }
   ],
   "source": [
    "def prime_factors(num):\n",
    "    factors = []\n",
    "    i = 2\n",
    "    while i * i <= num:\n",
    "        if num % i:\n",
    "            i += 1\n",
    "        else:\n",
    "            num //= i\n",
    "            factors.append(i)\n",
    "    if num > 1:\n",
    "        factors.append(num)\n",
    "        return factors\n",
    "numbers = [60, 75, 90]\n",
    "for num in numbers:\n",
    "    print(f\"Prime factors of {num}: {prime_factors(num)}\")\n"
   ]
  },
  {
   "cell_type": "code",
   "execution_count": 5,
   "id": "2c20e802-0c3e-4152-8052-1203dd6c5174",
   "metadata": {},
   "outputs": [
    {
     "name": "stdout",
     "output_type": "stream",
     "text": [
      "W B W B W B W B \n",
      "B W B W B W B W \n",
      "W B W B W B W B \n",
      "B W B W B W B W \n",
      "W B W B W B W B \n",
      "B W B W B W B W \n",
      "W B W B W B W B \n",
      "B W B W B W B W \n"
     ]
    }
   ],
   "source": [
    "size = 8\n",
    "for row in range(size):\n",
    "    for col in range(size):\n",
    "        if (row + col) % 2 == 0:\n",
    "            print('W', end=' ')\n",
    "        else:\n",
    "            print('B', end=' ')\n",
    "    print()"
   ]
  },
  {
   "cell_type": "code",
   "execution_count": 6,
   "id": "a01ae564-6024-436a-86f0-34cb7512026d",
   "metadata": {},
   "outputs": [
    {
     "name": "stdout",
     "output_type": "stream",
     "text": [
      "Common elements: [2, 3]\n",
      "Common elements: [2, 3]\n"
     ]
    }
   ],
   "source": [
    "lists = [[1, 2, 3, 4], [2, 3, 5, 6], [2, 3, 7, 8]]\n",
    "common = lists[0]\n",
    "for lst in lists[1:]:\n",
    "    common = [x for x in common if x in lst]\n",
    "    print(\"Common elements:\", common)\n"
   ]
  },
  {
   "cell_type": "code",
   "execution_count": 10,
   "id": "6eb1fbe0-2d86-439a-9a4a-0cfc601801b3",
   "metadata": {},
   "outputs": [
    {
     "name": "stdout",
     "output_type": "stream",
     "text": [
      "Welcome to Pascal's Triangle Generator!\n"
     ]
    },
    {
     "name": "stdin",
     "output_type": "stream",
     "text": [
      "Enter the number of rows for Pascal's Triangle (0 to quit):  5\n"
     ]
    },
    {
     "name": "stdout",
     "output_type": "stream",
     "text": [
      "    1    \n",
      "   1 1   \n",
      "  1 2 1  \n",
      " 1 3 3 1 \n",
      "1 4 6 4 1\n"
     ]
    },
    {
     "name": "stdin",
     "output_type": "stream",
     "text": [
      "Enter the number of rows for Pascal's Triangle (0 to quit):  quit\n"
     ]
    },
    {
     "name": "stdout",
     "output_type": "stream",
     "text": [
      "Invalid input. Please enter a valid number.\n"
     ]
    },
    {
     "name": "stdin",
     "output_type": "stream",
     "text": [
      "Enter the number of rows for Pascal's Triangle (0 to quit):  0\n"
     ]
    },
    {
     "name": "stdout",
     "output_type": "stream",
     "text": [
      "Goodbye!\n"
     ]
    }
   ],
   "source": [
    "def generate_pascals_triangle(n):\n",
    "    \"\"\"\n",
    "    Generates Pascal's Triangle up to n rows.\n",
    "\n",
    "    :param n: Number of rows in the triangle\n",
    "    :return: List of lists representing Pascal's Triangle\n",
    "    \"\"\"\n",
    "    triangle = []\n",
    "\n",
    "    for i in range(n):\n",
    "        row = [1]  # Start with 1\n",
    "        if triangle:  # If the triangle is not empty\n",
    "            last_row = triangle[-1]\n",
    "            row.extend([last_row[j] + last_row[j + 1] for j in range(len(last_row) - 1)])\n",
    "            row.append(1)  # End with 1\n",
    "        triangle.append(row)\n",
    "\n",
    "    return triangle\n",
    "\n",
    "def print_pascals_triangle(triangle):\n",
    "    \"\"\"\n",
    "    Prints Pascal's Triangle in a formatted way.\n",
    "\n",
    "    :param triangle: List of lists representing Pascal's Triangle\n",
    "    \"\"\"\n",
    "    max_width = len(\" \".join(map(str, triangle[-1])))\n",
    "\n",
    "    for row in triangle:\n",
    "        formatted_row = \" \".join(map(str, row)).center(max_width)\n",
    "        print(formatted_row)\n",
    "\n",
    "def main():\n",
    "    \"\"\"Main function to interact with the user and display Pascal's Triangle.\"\"\"\n",
    "    print(\"Welcome to Pascal's Triangle Generator!\")\n",
    "    while True:\n",
    "        try:\n",
    "            n = int(input(\"Enter the number of rows for Pascal's Triangle (0 to quit): \"))\n",
    "            if n == 0:\n",
    "                print(\"Goodbye!\")\n",
    "                break\n",
    "            elif n < 0:\n",
    "                print(\"Please enter a non-negative integer.\")\n",
    "                continue\n",
    "\n",
    "            triangle = generate_pascals_triangle(n)\n",
    "            print_pascals_triangle(triangle)\n",
    "        except ValueError:\n",
    "            print(\"Invalid input. Please enter a valid number.\")\n",
    "\n",
    "if __name__ == \"__main__\":\n",
    "    main()\n"
   ]
  },
  {
   "cell_type": "code",
   "execution_count": 11,
   "id": "c656045a-922a-466b-8911-c6a684cb34f0",
   "metadata": {},
   "outputs": [
    {
     "name": "stdout",
     "output_type": "stream",
     "text": [
      "Welcome to Spiral Matrix Generator!\n"
     ]
    },
    {
     "name": "stdin",
     "output_type": "stream",
     "text": [
      "Enter the size of the spiral matrix (0 to quit):  6\n"
     ]
    },
    {
     "name": "stdout",
     "output_type": "stream",
     "text": [
      "1 2 3 4 5 6\n",
      "20 21 22 23 24 7\n",
      "19 32 33 34 25 8\n",
      "18 31 36 35 26 9\n",
      "17 30 29 28 27 10\n",
      "16 15 14 13 12 11\n"
     ]
    },
    {
     "name": "stdin",
     "output_type": "stream",
     "text": [
      "Enter the size of the spiral matrix (0 to quit):  0\n"
     ]
    },
    {
     "name": "stdout",
     "output_type": "stream",
     "text": [
      "Goodbye!\n"
     ]
    }
   ],
   "source": [
    "def generate_spiral_matrix(n):\n",
    "    \"\"\"\n",
    "    Generates an n x n spiral matrix.\n",
    "\n",
    "    :param n: Size of the spiral matrix\n",
    "    :return: List of lists representing the spiral matrix\n",
    "    \"\"\"\n",
    "    matrix = [[0] * n for _ in range(n)]\n",
    "    left, right, top, bottom = 0, n - 1, 0, n - 1\n",
    "    num = 1\n",
    "\n",
    "    while left <= right and top <= bottom:\n",
    "        # Fill top row\n",
    "        for i in range(left, right + 1):\n",
    "            matrix[top][i] = num\n",
    "            num += 1\n",
    "        top += 1\n",
    "\n",
    "        # Fill right column\n",
    "        for i in range(top, bottom + 1):\n",
    "            matrix[i][right] = num\n",
    "            num += 1\n",
    "        right -= 1\n",
    "\n",
    "        # Fill bottom row\n",
    "        for i in range(right, left - 1, -1):\n",
    "            matrix[bottom][i] = num\n",
    "            num += 1\n",
    "        bottom -= 1\n",
    "\n",
    "        # Fill left column\n",
    "        for i in range(bottom, top - 1, -1):\n",
    "            matrix[i][left] = num\n",
    "            num += 1\n",
    "        left += 1\n",
    "\n",
    "    return matrix\n",
    "\n",
    "def print_spiral_matrix(matrix):\n",
    "    \"\"\"\n",
    "    Prints a spiral matrix in a formatted way.\n",
    "\n",
    "    :param matrix: List of lists representing the spiral matrix\n",
    "    \"\"\"\n",
    "    for row in matrix:\n",
    "        print(\" \".join(map(str, row)))\n",
    "\n",
    "def main():\n",
    "    \"\"\"Main function to interact with the user and display the spiral matrix.\"\"\"\n",
    "    print(\"Welcome to Spiral Matrix Generator!\")\n",
    "    while True:\n",
    "        try:\n",
    "            n = int(input(\"Enter the size of the spiral matrix (0 to quit): \"))\n",
    "            if n == 0:\n",
    "                print(\"Goodbye!\")\n",
    "                break\n",
    "            elif n < 0:\n",
    "                print(\"Please enter a positive integer.\")\n",
    "                continue\n",
    "\n",
    "            matrix = generate_spiral_matrix(n)\n",
    "            print_spiral_matrix(matrix)\n",
    "        except ValueError:\n",
    "            print(\"Invalid input. Please enter a valid number.\")\n",
    "\n",
    "if __name__ == \"__main__\":\n",
    "    main()\n"
   ]
  },
  {
   "cell_type": "code",
   "execution_count": 12,
   "id": "e7085cb2-2645-4a9b-873d-4cd7c6d5c415",
   "metadata": {},
   "outputs": [
    {
     "name": "stdout",
     "output_type": "stream",
     "text": [
      "The matrix is a magic square.\n"
     ]
    }
   ],
   "source": [
    "def is_magic_square(matrix):\n",
    "    # Get the size of the matrix (n x n)\n",
    "    n = len(matrix)\n",
    "    \n",
    "    # Calculate the sum of the first row, this will be our target sum\n",
    "    target_sum = sum(matrix[0])\n",
    "    \n",
    "    # Check the sum of each row\n",
    "    for row in matrix:\n",
    "        if sum(row) != target_sum:\n",
    "            return False\n",
    "    \n",
    "    # Check the sum of each column\n",
    "    for col in range(n):\n",
    "        column_sum = sum(matrix[row][col] for row in range(n))\n",
    "        if column_sum != target_sum:\n",
    "            return False\n",
    "    \n",
    "    # Check the sum of the main diagonal\n",
    "    main_diag_sum = sum(matrix[i][i] for i in range(n))\n",
    "    if main_diag_sum != target_sum:\n",
    "        return False\n",
    "    \n",
    "    # Check the sum of the secondary diagonal\n",
    "    sec_diag_sum = sum(matrix[i][n - i - 1] for i in range(n))\n",
    "    if sec_diag_sum != target_sum:\n",
    "        return False\n",
    "    \n",
    "    # If all checks pass, it's a magic square\n",
    "    return True\n",
    "\n",
    "# Example usage\n",
    "matrix = [\n",
    "    [2, 7, 6],\n",
    "    [9, 5, 1],\n",
    "    [4, 3, 8]\n",
    "]\n",
    "\n",
    "if is_magic_square(matrix):\n",
    "    print(\"The matrix is a magic square.\")\n",
    "else:\n",
    "    print(\"The matrix is not a magic square.\")\n"
   ]
  },
  {
   "cell_type": "code",
   "execution_count": 13,
   "id": "2dda00c8-0bae-4038-931b-e29c5a099cd3",
   "metadata": {},
   "outputs": [
    {
     "name": "stdout",
     "output_type": "stream",
     "text": [
      "Found words: ['abc', 'hell']\n"
     ]
    }
   ],
   "source": [
    "def word_search_solver(grid, words):\n",
    "    def is_word_in_grid(word):\n",
    "        # Get the dimensions of the grid\n",
    "        rows = len(grid)\n",
    "        cols = len(grid[0])\n",
    "        \n",
    "        # Directions: right, down, left, up, diagonals\n",
    "        directions = [\n",
    "            (0, 1),  # right\n",
    "            (1, 0),  # down\n",
    "            (0, -1), # left\n",
    "            (-1, 0), # up\n",
    "            (1, 1),  # diagonal down-right\n",
    "            (1, -1), # diagonal down-left\n",
    "            (-1, 1), # diagonal up-right\n",
    "            (-1, -1) # diagonal up-left\n",
    "        ]\n",
    "\n",
    "        # Check every position in the grid\n",
    "        for row in range(rows):\n",
    "            for col in range(cols):\n",
    "                # For each direction, check if the word fits\n",
    "                for dr, dc in directions:\n",
    "                    if search_from_position(word, row, col, dr, dc):\n",
    "                        return True\n",
    "        return False\n",
    "\n",
    "    def search_from_position(word, start_row, start_col, dr, dc):\n",
    "        # Check if the word fits in the grid from the start position and direction\n",
    "        word_length = len(word)\n",
    "        end_row = start_row + (word_length - 1) * dr\n",
    "        end_col = start_col + (word_length - 1) * dc\n",
    "        \n",
    "        # Ensure the word stays within the grid bounds\n",
    "        if not (0 <= end_row < len(grid) and 0 <= end_col < len(grid[0])):\n",
    "            return False\n",
    "        \n",
    "        # Check each character of the word in the given direction\n",
    "        for i in range(word_length):\n",
    "            row = start_row + i * dr\n",
    "            col = start_col + i * dc\n",
    "            if grid[row][col] != word[i]:\n",
    "                return False\n",
    "        return True\n",
    "\n",
    "    # Solve for each word in the list\n",
    "    found_words = []\n",
    "    for word in words:\n",
    "        if is_word_in_grid(word):\n",
    "            found_words.append(word)\n",
    "    \n",
    "    return found_words\n",
    "\n",
    "\n",
    "# Example usage\n",
    "grid = [\n",
    "    ['a', 'b', 'c', 'e'],\n",
    "    ['s', 'f', 'c', 's'],\n",
    "    ['g', 'c', 'e', 'a'],\n",
    "    ['h', 'e', 'l', 'l']\n",
    "]\n",
    "\n",
    "words_to_find = ['abc', 'eas', 'sea', 'hell', 'ces']\n",
    "\n",
    "found_words = word_search_solver(grid, words_to_find)\n",
    "\n",
    "print(\"Found words:\", found_words)\n"
   ]
  },
  {
   "cell_type": "code",
   "execution_count": null,
   "id": "cc457880-0c3a-4fdf-8768-55fb420ab640",
   "metadata": {},
   "outputs": [],
   "source": []
  }
 ],
 "metadata": {
  "kernelspec": {
   "display_name": "Python 3 (ipykernel)",
   "language": "python",
   "name": "python3"
  },
  "language_info": {
   "codemirror_mode": {
    "name": "ipython",
    "version": 3
   },
   "file_extension": ".py",
   "mimetype": "text/x-python",
   "name": "python",
   "nbconvert_exporter": "python",
   "pygments_lexer": "ipython3",
   "version": "3.12.4"
  }
 },
 "nbformat": 4,
 "nbformat_minor": 5
}
