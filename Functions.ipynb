{
 "cells": [
  {
   "cell_type": "code",
   "execution_count": 7,
   "id": "0bde9269-227a-4bdb-aeb8-ca6b863e3060",
   "metadata": {},
   "outputs": [
    {
     "name": "stdin",
     "output_type": "stream",
     "text": [
      "enter a number 7\n"
     ]
    },
    {
     "data": {
      "text/plain": [
       "5040"
      ]
     },
     "execution_count": 7,
     "metadata": {},
     "output_type": "execute_result"
    }
   ],
   "source": [
    "def factorial(n): #factorial of a number\n",
    "    if n==0 or n==1:\n",
    "        return 1\n",
    "    else:\n",
    "        return n * factorial(n-1)\n",
    "n=int(input(\"enter a number\"))\n",
    "factorial(n)\n",
    "        \n",
    "                             "
   ]
  },
  {
   "cell_type": "code",
   "execution_count": 10,
   "id": "3ee96b15-c606-4af2-80cf-9ec45ab19537",
   "metadata": {},
   "outputs": [
    {
     "name": "stdout",
     "output_type": "stream",
     "text": [
      "8\n"
     ]
    }
   ],
   "source": [
    "def fibonacci(n):\n",
    "    if n<=1:\n",
    "        return n\n",
    "    else:\n",
    "        return fibonacci(n-1) + fibonacci(n-2)\n",
    "print(fibonacci(6))        \n",
    "        "
   ]
  },
  {
   "cell_type": "code",
   "execution_count": 13,
   "id": "4de987ea-bf01-4486-84c7-40f1e10b088f",
   "metadata": {},
   "outputs": [
    {
     "name": "stdout",
     "output_type": "stream",
     "text": [
      "120\n"
     ]
    }
   ],
   "source": [
    "def sum_natural(n):\n",
    "    if n==1:\n",
    "        return 1\n",
    "    else:\n",
    "        return n + sum_natural(n-1)\n",
    "print(sum_natural(15))        "
   ]
  },
  {
   "cell_type": "code",
   "execution_count": 25,
   "id": "94107aca-d3e9-4341-94ec-4bfd805c4d03",
   "metadata": {},
   "outputs": [
    {
     "name": "stdout",
     "output_type": "stream",
     "text": [
      "True\n"
     ]
    }
   ],
   "source": [
    "def is_palindrome(s):\n",
    "   if len(s) >= 1:\n",
    "       return True\n",
    "   if s[0] != s[-1]:\n",
    "       return False\n",
    "   else:    \n",
    "       return is_palindrome(s[1:-1])\n",
    "print(is_palindrome(\"racecar\"))"
   ]
  },
  {
   "cell_type": "code",
   "execution_count": 26,
   "id": "531e9995-de30-4276-884f-f938e3df7283",
   "metadata": {},
   "outputs": [
    {
     "name": "stdout",
     "output_type": "stream",
     "text": [
      "8\n"
     ]
    }
   ],
   "source": [
    "def power(x, y):\n",
    "   if y == 0:\n",
    "       return 1\n",
    "   else:\n",
    "       return x * power(x, y - 1)\n",
    "print(power(2, 3))"
   ]
  },
  {
   "cell_type": "code",
   "execution_count": 27,
   "id": "4a045b87-359c-4093-9130-9ccf88eb4570",
   "metadata": {},
   "outputs": [
    {
     "name": "stdout",
     "output_type": "stream",
     "text": [
      "6\n"
     ]
    }
   ],
   "source": [
    "def gcd(a, b):\n",
    "   if b == 0:\n",
    "     return a\n",
    "   else:    \n",
    "     return gcd(b, a % b)\n",
    "print(gcd(48, 18))"
   ]
  },
  {
   "cell_type": "code",
   "execution_count": 28,
   "id": "37967c5a-0f24-46e4-bc4a-9adbe38afe36",
   "metadata": {},
   "outputs": [
    {
     "name": "stdout",
     "output_type": "stream",
     "text": [
      "1010\n"
     ]
    }
   ],
   "source": [
    "def decimal_to_binary(n):\n",
    "    if n == 0:\n",
    "       return \"\"\n",
    "    else:\n",
    "     return decimal_to_binary(n // 2) + str(n % 2)\n",
    "print(decimal_to_binary(10))"
   ]
  },
  {
   "cell_type": "code",
   "execution_count": 29,
   "id": "06fc8e08-860b-41da-9e21-41833386977d",
   "metadata": {},
   "outputs": [
    {
     "name": "stdout",
     "output_type": "stream",
     "text": [
      "olleh\n"
     ]
    }
   ],
   "source": [
    "def reverse_string(s):\n",
    "    if len(s) == 0:\n",
    "         return \"\"\n",
    "    else:\n",
    "         return s[-1] + reverse_string(s[:-1])\n",
    "print(reverse_string(\"hello\"))"
   ]
  },
  {
   "cell_type": "code",
   "execution_count": 1,
   "id": "53d50973-927c-44a2-b9f9-d5609219924d",
   "metadata": {},
   "outputs": [
    {
     "name": "stdout",
     "output_type": "stream",
     "text": [
      "[5, 6, 1, 2, 3, 4]\n"
     ]
    }
   ],
   "source": [
    "def rotate_right(lst,n):\n",
    "    if not lst:\n",
    "        return lst\n",
    "    n=n%len(lst) #=n if n<len(list) and remainder if n>len(list)\n",
    "    return lst[-n:]+lst[:-n]\n",
    "lst=[1,2,3,4,5,6]\n",
    "rotated_lst=rotate_right(lst,2)\n",
    "print(rotated_lst)"
   ]
  },
  {
   "cell_type": "code",
   "execution_count": 2,
   "id": "863ad4fe-2cb2-405e-adcc-d66584b10f98",
   "metadata": {},
   "outputs": [
    {
     "name": "stdout",
     "output_type": "stream",
     "text": [
      "[3, 4, 5, 6, 1, 2]\n"
     ]
    }
   ],
   "source": [
    "def rotate_left(lst,n):\n",
    "    if not lst:\n",
    "        return lst\n",
    "    n=n%len(lst)\n",
    "    return lst[n:]+lst[:n]\n",
    "lst=[1,2,3,4,5,6]\n",
    "rotated_lst=rotate_left(lst,2)\n",
    "print(rotated_lst)"
   ]
  },
  {
   "cell_type": "code",
   "execution_count": 3,
   "id": "051cc789-a6f6-46b2-b992-64abcf0a0d66",
   "metadata": {},
   "outputs": [
    {
     "name": "stdout",
     "output_type": "stream",
     "text": [
      "6\n"
     ]
    }
   ],
   "source": [
    "def sum_of_digits(n):\n",
    "    if n == 0:\n",
    "        return 0\n",
    "    return n % 10 + sum_of_digits(n // 10)\n",
    "print(sum_of_digits(123)) # Output: 6"
   ]
  },
  {
   "cell_type": "code",
   "execution_count": 4,
   "id": "fe5a3988-1787-4282-aa0a-72493bfd0a0f",
   "metadata": {},
   "outputs": [
    {
     "name": "stdout",
     "output_type": "stream",
     "text": [
      "24\n"
     ]
    }
   ],
   "source": [
    "def product_of_array(arr, n):\n",
    "    if n == 0:\n",
    "        return arr[0]\n",
    "    return arr[n] * product_of_array(arr, n - 1)\n",
    "print(product_of_array([1, 2, 3, 4], 3))"
   ]
  },
  {
   "cell_type": "code",
   "execution_count": 5,
   "id": "acc4a0f9-e6f0-4a9d-9d43-dc507142f255",
   "metadata": {},
   "outputs": [
    {
     "name": "stdout",
     "output_type": "stream",
     "text": [
      "True\n"
     ]
    }
   ],
   "source": [
    "def is_sorted(arr, n):\n",
    "    if n == 1:\n",
    "        return True\n",
    "        \n",
    "    return arr[n - 1] >= arr[n - 2] and is_sorted(arr, n - 1)\n",
    "print(is_sorted([1, 2, 3, 4], 4))"
   ]
  },
  {
   "cell_type": "code",
   "execution_count": 7,
   "id": "7e81f880-792a-42a3-b7e0-9bf19ea4822a",
   "metadata": {},
   "outputs": [
    {
     "name": "stdout",
     "output_type": "stream",
     "text": [
      "[[], [3], [2], [2, 3], [1], [1, 3], [1, 2], [1, 2, 3]]\n"
     ]
    }
   ],
   "source": [
    "def subsets(s):\n",
    "    if len(s) == 0:\n",
    "        return [[]]\n",
    "    smaller_subsets = subsets(s[1:])\n",
    "    return smaller_subsets + [[s[0]] + ss for ss in smaller_subsets]\n",
    "print(subsets([1, 2, 3]))\n"
   ]
  },
  {
   "cell_type": "code",
   "execution_count": 10,
   "id": "96015825-dc55-4ac5-a565-ce1accb9935a",
   "metadata": {},
   "outputs": [
    {
     "name": "stdout",
     "output_type": "stream",
     "text": [
      "Move disk 1 from A to C\n",
      "Move disk 2 from A to B\n",
      "Move disk 1 from C to B\n",
      "Move disk 3 from A to C\n",
      "Move disk 1 from B to A\n",
      "Move disk 2 from B to C\n",
      "Move disk 1 from A to C\n"
     ]
    }
   ],
   "source": [
    "def tower_of_hanoi(n, source, target, auxiliary):\n",
    "    if n == 1:\n",
    "        print(f\"Move disk 1 from {source} to {target}\")\n",
    "        return\n",
    "    tower_of_hanoi(n - 1, source, auxiliary, target)\n",
    "    print(f\"Move disk {n} from {source} to {target}\")\n",
    "    tower_of_hanoi(n - 1, auxiliary, target, source)\n",
    "tower_of_hanoi(3, 'A', 'C', 'B')\n"
   ]
  },
  {
   "cell_type": "code",
   "execution_count": 11,
   "id": "cd67fd41-a358-4be3-b1ac-6ec050c5d33b",
   "metadata": {},
   "outputs": [
    {
     "name": "stdout",
     "output_type": "stream",
     "text": [
      "5\n"
     ]
    }
   ],
   "source": [
    "def count_ways(n):\n",
    "    if n <= 1:\n",
    "        return 1\n",
    "    return count_ways(n - 1) + count_ways(n - 2)\n",
    "print(count_ways(4))"
   ]
  },
  {
   "cell_type": "code",
   "execution_count": 12,
   "id": "d897e719-0ae4-46ee-b772-e8a8e17969c5",
   "metadata": {},
   "outputs": [
    {
     "name": "stdout",
     "output_type": "stream",
     "text": [
      "abc\n",
      "acb\n",
      "bac\n",
      "bca\n",
      "cab\n",
      "cba\n"
     ]
    }
   ],
   "source": [
    "def permutations(s, chosen=\"\"):\n",
    "    if len(s) == 0:\n",
    "        print(chosen)\n",
    "    else:\n",
    "        for i in range(len(s)):\n",
    "            c = s[i]\n",
    "            remaining = s[:i] + s[i + 1:]\n",
    "            permutations(remaining, chosen + c)\n",
    "permutations(\"abc\")\n"
   ]
  },
  {
   "cell_type": "code",
   "execution_count": 13,
   "id": "2e73f964-fe5c-43cc-8c5d-16407f7dd036",
   "metadata": {},
   "outputs": [
    {
     "name": "stdout",
     "output_type": "stream",
     "text": [
      "15\n"
     ]
    }
   ],
   "source": [
    "def triangular_number(n):\n",
    "    if n == 1:\n",
    "        return 1\n",
    "    return n + triangular_number(n - 1)\n",
    "print(triangular_number(5))"
   ]
  },
  {
   "cell_type": "code",
   "execution_count": 14,
   "id": "17734e73-52e1-496a-96d3-18b41f0b473d",
   "metadata": {},
   "outputs": [
    {
     "name": "stdout",
     "output_type": "stream",
     "text": [
      "10\n"
     ]
    }
   ],
   "source": [
    "def list_sum(lst):\n",
    "    if not lst:\n",
    "        return 0\n",
    "    return lst[0] + list_sum(lst[1:])\n",
    "print(list_sum([1, 2, 3, 4])) "
   ]
  },
  {
   "cell_type": "code",
   "execution_count": 15,
   "id": "f701b5a6-4130-44bb-8440-619108f0ad1e",
   "metadata": {},
   "outputs": [
    {
     "name": "stdout",
     "output_type": "stream",
     "text": [
      "10\n"
     ]
    }
   ],
   "source": [
    "def binomial_coefficient(n, k):\n",
    "    if k == 0 or k == n:\n",
    "        return 1\n",
    "    return binomial_coefficient(n - 1, k - 1) + binomial_coefficient(n - 1, k)\n",
    "print(binomial_coefficient(5, 2))"
   ]
  },
  {
   "cell_type": "code",
   "execution_count": 24,
   "id": "0cca7e65-f738-4844-b0e6-923520ecb9f3",
   "metadata": {},
   "outputs": [
    {
     "name": "stdout",
     "output_type": "stream",
     "text": [
      "[[1, 2, 3]]\n"
     ]
    }
   ],
   "source": [
    "def permute(arr):\n",
    "    if len(arr) == 0:\n",
    "        return [[]]\n",
    "    result = []\n",
    "    for i in range(len(arr)):\n",
    "        rest = arr[:i] + arr[i+1:]\n",
    "        for perm in permute(rest):\n",
    "            result.append([arr[i]] + perm)\n",
    "        return result\n",
    "print(permute([1, 2, 3]))"
   ]
  },
  {
   "cell_type": "code",
   "execution_count": null,
   "id": "2bc59034-458a-49db-b479-b9d618f7b46c",
   "metadata": {},
   "outputs": [],
   "source": []
  }
 ],
 "metadata": {
  "kernelspec": {
   "display_name": "Python 3 (ipykernel)",
   "language": "python",
   "name": "python3"
  },
  "language_info": {
   "codemirror_mode": {
    "name": "ipython",
    "version": 3
   },
   "file_extension": ".py",
   "mimetype": "text/x-python",
   "name": "python",
   "nbconvert_exporter": "python",
   "pygments_lexer": "ipython3",
   "version": "3.12.4"
  }
 },
 "nbformat": 4,
 "nbformat_minor": 5
}
