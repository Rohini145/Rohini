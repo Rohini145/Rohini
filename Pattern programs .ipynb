{
 "cells": [
  {
   "cell_type": "code",
   "execution_count": 1,
   "id": "0525bf28-f21e-4456-acc8-2dd48e421c87",
   "metadata": {},
   "outputs": [
    {
     "name": "stdout",
     "output_type": "stream",
     "text": [
      "    *\n",
      "   ***\n",
      "  *****\n",
      " *******\n",
      "*********\n"
     ]
    }
   ],
   "source": [
    "# Function to print full pyramid pattern\n",
    "def full_pyramid(n):\n",
    "    for i in range(1, n + 1):\n",
    "        # Print leading spaces\n",
    "        for j in range(n - i):\n",
    "            print(\" \", end=\"\")\n",
    "        \n",
    "        # Print asterisks for the current row\n",
    "        for k in range(1, 2*i):\n",
    "            print(\"*\", end=\"\")\n",
    "        print()\n",
    "   \n",
    "full_pyramid(5)"
   ]
  },
  {
   "cell_type": "code",
   "execution_count": 2,
   "id": "09f56238-bb00-4f9c-a2a1-af49fdd0b19e",
   "metadata": {},
   "outputs": [
    {
     "name": "stdout",
     "output_type": "stream",
     "text": [
      "      A \n",
      "     A B \n",
      "    A B C \n",
      "   A B C D \n",
      "  A B C D E \n"
     ]
    }
   ],
   "source": [
    "n = 5\n",
    "alph = 65\n",
    "for i in range(0, n):\n",
    "    print(\" \" * (n-i), end=\" \")\n",
    "    for j in range(0, i+1):\n",
    "        print(chr(alph), end=\" \")\n",
    "        alph += 1\n",
    "    alph = 65\n",
    "    print()"
   ]
  },
  {
   "cell_type": "code",
   "execution_count": 3,
   "id": "473c50ca-5765-4009-8dba-418be2335597",
   "metadata": {},
   "outputs": [
    {
     "name": "stdout",
     "output_type": "stream",
     "text": [
      "*********\n",
      " *******\n",
      "  *****\n",
      "   ***\n",
      "    *\n"
     ]
    }
   ],
   "source": [
    "# Function to print inverted full pyramid pattern\n",
    "def inverted_full_pyramid(n):\n",
    "    # Outer loop for the number of rows\n",
    "    for i in range(n, 0, -1):\n",
    "        # Inner loop for leading spaces in each row\n",
    "        for j in range(n - i):\n",
    "            print(\" \", end=\"\")\n",
    "        # Inner loop for printing asterisks in each row\n",
    "        for k in range(2*i - 1):\n",
    "            print(\"*\", end=\"\")\n",
    "        # Move to the next line after each row\n",
    "        print(\"\")\n",
    "\n",
    "# Set the value of n (number of rows)\n",
    "n = 5\n",
    "\n",
    "# Call the function to print the inverted full pyramid\n",
    "inverted_full_pyramid(n)"
   ]
  },
  {
   "cell_type": "code",
   "execution_count": 4,
   "id": "68c08de1-b60f-4680-b92e-b3d612c082c5",
   "metadata": {},
   "outputs": [
    {
     "name": "stdout",
     "output_type": "stream",
     "text": [
      "    *    \n",
      "   * *   \n",
      "  *   *  \n",
      " *     * \n",
      "*********\n"
     ]
    }
   ],
   "source": [
    "def hollow_pyramid(n):\n",
    "    for i in range(1, n + 1):\n",
    "        for j in range(1, 2 * n):\n",
    "            if j == n - i + 1 or j == n + i - 1 or i == n:\n",
    "                print(\"*\", end=\"\")\n",
    "            else:\n",
    "                print(\" \", end=\"\")\n",
    "        print()\n",
    "\n",
    "# Set the number of rows for the pyramid\n",
    "rows = 5\n",
    "\n",
    "# Call the function with the specified number of rows\n",
    "hollow_pyramid(rows)"
   ]
  },
  {
   "cell_type": "code",
   "execution_count": 5,
   "id": "c3befa46-525b-443f-89e2-fbd8b9b5543b",
   "metadata": {},
   "outputs": [
    {
     "name": "stdout",
     "output_type": "stream",
     "text": [
      "* \n",
      "* * \n",
      "* * * \n",
      "* * * * \n",
      "* * * * * \n"
     ]
    }
   ],
   "source": [
    "# Function to print a half pyramid pattern\n",
    "def half_pyramid(n):\n",
    "    for i in range(1, n + 1):\n",
    "        for j in range(1, i + 1):\n",
    "            print(\"* \", end=\"\")\n",
    "        print(\"\")\n",
    "\n",
    "# Example: Print a half pyramid with 5 rows\n",
    "n = 5\n",
    "half_pyramid(n)"
   ]
  },
  {
   "cell_type": "code",
   "execution_count": 6,
   "id": "de310586-f2fc-4280-8ac5-9806816220ff",
   "metadata": {},
   "outputs": [
    {
     "name": "stdout",
     "output_type": "stream",
     "text": [
      "1 \n",
      "1 2 \n",
      "1 2 3 \n",
      "1 2 3 4 \n",
      "1 2 3 4 5 \n"
     ]
    }
   ],
   "source": [
    "# Function to demonstrate printing pattern of numbers\n",
    "def numpat(n):\n",
    "    \n",
    "    # initialising starting number \n",
    "    num = 1\n",
    "\n",
    "    # outer loop to handle number of rows\n",
    "    for i in range(0, n):\n",
    "    \n",
    "        # re assigning num\n",
    "        num = 1\n",
    "    \n",
    "        # inner loop to handle number of columns\n",
    "            # values changing acc. to outer loop\n",
    "        for j in range(0, i+1):\n",
    "        \n",
    "                # printing number\n",
    "            print(num, end=\" \")\n",
    "        \n",
    "            # incrementing number at each column\n",
    "            num = num + 1\n",
    "    \n",
    "        # ending line after each row\n",
    "        print(\"\")\n",
    "\n",
    "# Driver code\n",
    "n = 5\n",
    "numpat(n)"
   ]
  },
  {
   "cell_type": "code",
   "execution_count": 7,
   "id": "5fe518dd-3b1d-4af0-b18e-f5805a0ccc81",
   "metadata": {},
   "outputs": [
    {
     "name": "stdout",
     "output_type": "stream",
     "text": [
      "A \n",
      "B B \n",
      "C C C \n",
      "D D D D \n",
      "E E E E E \n"
     ]
    }
   ],
   "source": [
    "# Function to demonstrate printing pattern of alphabets\n",
    "def alphapat(n):\n",
    "    \n",
    "    # initializing value corresponding to 'A' ASCII value\n",
    "    num = 65\n",
    "\n",
    "    # outer loop to handle number of rows 5 in this case\n",
    "    for i in range(0, n):\n",
    "    \n",
    "        # inner loop to handle number of columns\n",
    "        # values changing acc. to outer loop\n",
    "        for j in range(0, i+1):\n",
    "        \n",
    "            # explicitly converting to char\n",
    "            ch = chr(num)\n",
    "        \n",
    "            # printing char value \n",
    "            print(ch, end=\" \")\n",
    "    \n",
    "        # incrementing number\n",
    "        num = num + 1\n",
    "    \n",
    "        # ending line after each row\n",
    "        print(\"\\r\")\n",
    "\n",
    "# Driver Code\n",
    "n = 5\n",
    "alphapat(n)"
   ]
  },
  {
   "cell_type": "code",
   "execution_count": 8,
   "id": "a788a5b4-4151-404b-ace0-d37d66f2b26f",
   "metadata": {},
   "outputs": [
    {
     "name": "stdout",
     "output_type": "stream",
     "text": [
      "* * * * * \n",
      "* * * * \n",
      "* * * \n",
      "* * \n",
      "* \n"
     ]
    }
   ],
   "source": [
    "# Function to print inverted half pyramid pattern\n",
    "def inverted_half_pyramid(n):\n",
    "    for i in range(n, 0, -1):\n",
    "        for j in range(1, i + 1):\n",
    "            print(\"* \", end=\"\")\n",
    "        print(\"\\r\")\n",
    "\n",
    "# Example: Inverted Half Pyramid with n = 5\n",
    "n = 5\n",
    "inverted_half_pyramid(n)"
   ]
  },
  {
   "cell_type": "code",
   "execution_count": 9,
   "id": "033e2bd8-b2e6-4174-9d03-cf94b7096acd",
   "metadata": {},
   "outputs": [
    {
     "name": "stdout",
     "output_type": "stream",
     "text": [
      "Hollow Inverted Half Pyramid:\n",
      "*****\n",
      " *  *\n",
      "  * *\n",
      "   **\n",
      "    *\n"
     ]
    }
   ],
   "source": [
    "def print_hollow_inverted_half_pyramid(rows):\n",
    "    for i in range(rows, 0, -1):\n",
    "        for j in range(rows - i):\n",
    "            print(\" \", end=\"\")\n",
    "        for j in range(i):\n",
    "            if j == 0 or j == i - 1 or i == rows:\n",
    "                print(\"*\", end=\"\")\n",
    "            else:\n",
    "                print(\" \", end=\"\")\n",
    "        print()\n",
    "\n",
    "# Example usage\n",
    "num_rows = 5\n",
    "print(\"Hollow Inverted Half Pyramid:\")\n",
    "print_hollow_inverted_half_pyramid(num_rows)"
   ]
  },
  {
   "cell_type": "code",
   "execution_count": null,
   "id": "20305ab4-068d-45d7-910e-224f3be6ce57",
   "metadata": {},
   "outputs": [],
   "source": []
  }
 ],
 "metadata": {
  "kernelspec": {
   "display_name": "Python 3 (ipykernel)",
   "language": "python",
   "name": "python3"
  },
  "language_info": {
   "codemirror_mode": {
    "name": "ipython",
    "version": 3
   },
   "file_extension": ".py",
   "mimetype": "text/x-python",
   "name": "python",
   "nbconvert_exporter": "python",
   "pygments_lexer": "ipython3",
   "version": "3.12.4"
  }
 },
 "nbformat": 4,
 "nbformat_minor": 5
}
