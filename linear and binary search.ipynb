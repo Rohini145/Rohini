{
 "cells": [
  {
   "cell_type": "code",
   "execution_count": 7,
   "id": "819b17c3-f6df-488a-a718-e44725411a88",
   "metadata": {},
   "outputs": [
    {
     "name": "stdout",
     "output_type": "stream",
     "text": [
      "Element found at index 2.\n"
     ]
    }
   ],
   "source": [
    "def linear_search(arr, target):         \n",
    "    # Initialize index #linear search using while loop\n",
    "    index = 0\n",
    "    \n",
    "    # Loop through the array\n",
    "    while index < len(arr):\n",
    "        # Check if the current element matches the target\n",
    "        if arr[index] == target:\n",
    "            return index  # Return the index if found\n",
    "        index += 1  # Move to the next element\n",
    "    \n",
    "    return -1  # Return -1 if the target is not found\n",
    "\n",
    "# Example usage\n",
    "my_list = [10, 20, 30, 40, 50]\n",
    "target_value = 30\n",
    "\n",
    "result = linear_search(my_list, target_value)\n",
    "\n",
    "if result != -1:\n",
    "    print(f\"Element found at index {result}.\")\n",
    "else:\n",
    "    print(\"Element not found.\")\n"
   ]
  },
  {
   "cell_type": "code",
   "execution_count": 8,
   "id": "68543d1a-1b59-4ba9-a8e9-6213af6efced",
   "metadata": {},
   "outputs": [
    {
     "name": "stdout",
     "output_type": "stream",
     "text": [
      "Element found at index 2.\n"
     ]
    }
   ],
   "source": [
    "def linear_search(arr, target):\n",
    "    # Initialize index #linear search using for loop\n",
    "    index = 0\n",
    "    \n",
    "    # Loop through the array\n",
    "    for index in range(len(arr)):\n",
    "        # Check if the current element matches the target\n",
    "        if arr[index] == target:\n",
    "            return index  # Return the index if found\n",
    "        index += 1  # Move to the next element\n",
    "    \n",
    "    return -1  # Return -1 if the target is not found\n",
    "\n",
    "# Example usage\n",
    "my_list = [10, 20, 30, 40, 50]\n",
    "target_value = 30\n",
    "\n",
    "result = linear_search(my_list, target_value)\n",
    "\n",
    "if result != -1:\n",
    "    print(f\"Element found at index {result}.\")\n",
    "else:\n",
    "    print(\"Element not found.\")\n"
   ]
  },
  {
   "cell_type": "code",
   "execution_count": 9,
   "id": "5df480a8-c8bc-4a69-9f90-974a14724e7c",
   "metadata": {},
   "outputs": [
    {
     "name": "stdout",
     "output_type": "stream",
     "text": [
      "Element found at index 2.\n"
     ]
    }
   ],
   "source": [
    "def binary_search(arr, target):\n",
    "    # Initialize the start and end pointers #binary search using while loop\n",
    "    start = 0\n",
    "    end = len(arr) - 1\n",
    "\n",
    "    # While there is a search space\n",
    "    while start <= end:\n",
    "        # Calculate the middle index\n",
    "        mid = (start + end) // 2\n",
    "\n",
    "        # Check if the middle element is the target\n",
    "        if arr[mid] == target:\n",
    "            return mid  # Return the index if found\n",
    "        elif arr[mid] < target:\n",
    "            # If the target is greater, ignore the left half\n",
    "            start = mid + 1\n",
    "        else:\n",
    "            # If the target is smaller, ignore the right half\n",
    "            end = mid - 1\n",
    "\n",
    "    return -1  # Return -1 if the target is not found\n",
    "\n",
    "# Example usage\n",
    "my_list = [10, 20, 30, 40, 50]\n",
    "target_value = 30\n",
    "\n",
    "result = binary_search(my_list, target_value)\n",
    "\n",
    "if result != -1:\n",
    "    print(f\"Element found at index {result}.\")\n",
    "else:\n",
    "    print(\"Element not found.\")\n"
   ]
  },
  {
   "cell_type": "code",
   "execution_count": 10,
   "id": "5bfe1778-80bf-420a-9e5f-2eb72a627cbe",
   "metadata": {},
   "outputs": [
    {
     "name": "stdout",
     "output_type": "stream",
     "text": [
      "Element found at index 2.\n"
     ]
    }
   ],
   "source": [
    "def binary_search(arr, target):\n",
    "    # Initialize the start and end pointers #binary search using for loop\n",
    "    start = 0\n",
    "    end = len(arr) - 1\n",
    "\n",
    "    # Use a for loop with a large enough range (effectively infinite search space control)\n",
    "    for _ in range(len(arr)):  # Alternatively, you can use `while True`\n",
    "        if start > end:  # If the search space is exhausted\n",
    "            break\n",
    "\n",
    "        # Calculate the middle index\n",
    "        mid = (start + end) // 2\n",
    "\n",
    "        # Check if the middle element is the target\n",
    "        if arr[mid] == target:\n",
    "            return mid  # Return the index if found\n",
    "        elif arr[mid] < target:\n",
    "            # If the target is greater, ignore the left half\n",
    "            start = mid + 1\n",
    "        else:\n",
    "            # If the target is smaller, ignore the right half\n",
    "            end = mid - 1\n",
    "\n",
    "    return -1  # Return -1 if the target is not found\n",
    "\n",
    "# Example usage\n",
    "my_list = [10, 20, 30, 40, 50]\n",
    "target_value = 30\n",
    "\n",
    "result = binary_search(my_list, target_value)\n",
    "\n",
    "if result != -1:\n",
    "    print(f\"Element found at index {result}.\")\n",
    "else:\n",
    "    print(\"Element not found.\")\n"
   ]
  },
  {
   "cell_type": "code",
   "execution_count": 11,
   "id": "eb2c90ec-f005-4481-8584-03b2a65199b7",
   "metadata": {},
   "outputs": [
    {
     "name": "stdout",
     "output_type": "stream",
     "text": [
      "Element found at index 2.\n"
     ]
    }
   ],
   "source": [
    "def linear_search_recursive(arr, target, index=0):\n",
    "    # Base case: if the index exceeds the length of the list, the target is not found # linear search using recursive function\n",
    "    if index >= len(arr):\n",
    "        return -1\n",
    "\n",
    "    # Check if the current element matches the target\n",
    "    if arr[index] == target:\n",
    "        return index  # Return the index if found\n",
    "\n",
    "    # Recursive call: search in the rest of the list\n",
    "    return linear_search_recursive(arr, target, index + 1)\n",
    "\n",
    "# Example usage\n",
    "my_list = [10, 20, 30, 40, 50]\n",
    "target_value = 30\n",
    "\n",
    "result = linear_search_recursive(my_list, target_value)\n",
    "\n",
    "if result != -1:\n",
    "    print(f\"Element found at index {result}.\")\n",
    "else:\n",
    "    print(\"Element not found.\")\n"
   ]
  },
  {
   "cell_type": "code",
   "execution_count": null,
   "id": "539a793b-0caa-4c0f-90b9-22cfd15f693b",
   "metadata": {},
   "outputs": [],
   "source": []
  }
 ],
 "metadata": {
  "kernelspec": {
   "display_name": "Python 3 (ipykernel)",
   "language": "python",
   "name": "python3"
  },
  "language_info": {
   "codemirror_mode": {
    "name": "ipython",
    "version": 3
   },
   "file_extension": ".py",
   "mimetype": "text/x-python",
   "name": "python",
   "nbconvert_exporter": "python",
   "pygments_lexer": "ipython3",
   "version": "3.12.4"
  }
 },
 "nbformat": 4,
 "nbformat_minor": 5
}
