{
 "cells": [
  {
   "cell_type": "code",
   "execution_count": 1,
   "id": "b3a14ef1-22ac-4849-965c-b5394cd0af32",
   "metadata": {},
   "outputs": [
    {
     "name": "stdout",
     "output_type": "stream",
     "text": [
      "Matrix = [[1, 2, 3, 4], [5, 6, 7, 8], [9, 10, 11, 12]]\n"
     ]
    }
   ],
   "source": [
    "matrix = [[1, 2, 3, 4], \n",
    "    [5, 6, 7, 8],\n",
    "    [9, 10, 11, 12]]\n",
    "\n",
    "print(\"Matrix =\", matrix)"
   ]
  },
  {
   "cell_type": "code",
   "execution_count": 5,
   "id": "a10248cc-d68d-40dd-9111-e3fe9e57e7c9",
   "metadata": {},
   "outputs": [
    {
     "name": "stdin",
     "output_type": "stream",
     "text": [
      "Enter the number of rows: 2\n",
      "Enter the number of columns: 2\n"
     ]
    },
    {
     "name": "stdout",
     "output_type": "stream",
     "text": [
      "Enter the entries row wise:\n"
     ]
    },
    {
     "name": "stdin",
     "output_type": "stream",
     "text": [
      " 5\n",
      " 6\n",
      " 7\n",
      " 8\n"
     ]
    },
    {
     "name": "stdout",
     "output_type": "stream",
     "text": [
      "5 6 \n",
      "7 8 \n"
     ]
    }
   ],
   "source": [
    "Row = int(input(\"Enter the number of rows:\"))\n",
    "Column = int(input(\"Enter the number of columns:\"))\n",
    "\n",
    "# Initialize matrix\n",
    "matrix = []\n",
    "print(\"Enter the entries row wise:\")\n",
    "\n",
    "# For user input\n",
    "# A for loop for row entries\n",
    "for row in range(Row):    \n",
    "    a = []\n",
    "    # A for loop for column entries\n",
    "    for column in range(Column):   \n",
    "        a.append(int(input()))\n",
    "    matrix.append(a)\n",
    "\n",
    "# For printing the matrix\n",
    "for row in range(Row):\n",
    "    for column in range(Column):\n",
    "        print(matrix[row][column], end=\" \")\n",
    "    print()"
   ]
  },
  {
   "cell_type": "code",
   "execution_count": 6,
   "id": "081d5622-634a-43f9-b7f0-75013166e058",
   "metadata": {},
   "outputs": [
    {
     "name": "stdout",
     "output_type": "stream",
     "text": [
      "[10, 10, 10]\n",
      "[10, 10, 10]\n",
      "[10, 10, 10]\n"
     ]
    }
   ],
   "source": [
    "# Program to add two matrices using nested loop\n",
    "X = [[1, 2, 3],[4, 5, 6], [7, 8, 9]]\n",
    "Y = [[9, 8, 7], [6, 5, 4], [3, 2, 1]]\n",
    "\n",
    "result = [[0, 0, 0], [0, 0, 0], [0, 0, 0]]\n",
    "\n",
    "# iterate through rows\n",
    "for row in range(len(X)):\n",
    "\n",
    "    # iterate through columns\n",
    "    for column in range(len(X[0])):\n",
    "        result[row][column] = X[row][column]+ Y[row][column]\n",
    "\n",
    "for r in result:\n",
    "    print(r)"
   ]
  },
  {
   "cell_type": "code",
   "execution_count": 7,
   "id": "82513329-adaf-42e8-b311-c49b48abaf69",
   "metadata": {},
   "outputs": [
    {
     "name": "stdout",
     "output_type": "stream",
     "text": [
      "Matrix Addition\n",
      "[10, 10, 10]\n",
      "[10, 10, 10]\n",
      "[10, 10, 10]\n",
      "\n",
      "Matrix Subtraction\n",
      "[-8, -6, -4]\n",
      "[-2, 0, 2]\n",
      "[4, 6, 8]\n"
     ]
    }
   ],
   "source": [
    "Add_result = [[X[row][column] + Y[row][column]\n",
    "               for column in range(len(X[0]))] \n",
    "               for row in range(len(X))]\n",
    "Sub_result = [[X[row][column] - Y[row][column]\n",
    "               for column in range(len(X[0]))] \n",
    "               for row in range(len(X))]\n",
    "\n",
    "print(\"Matrix Addition\")\n",
    "for r in Add_result:\n",
    "    print(r)\n",
    "\n",
    "print(\"\\nMatrix Subtraction\")\n",
    "for r in Sub_result:\n",
    "    print(r)"
   ]
  },
  {
   "cell_type": "code",
   "execution_count": 8,
   "id": "99b2592e-bcc5-42bd-a34e-30975a14eaf4",
   "metadata": {},
   "outputs": [
    {
     "name": "stdout",
     "output_type": "stream",
     "text": [
      "Matrix Multiplication\n",
      "[9, 16, 21]\n",
      "[24, 25, 24]\n",
      "[21, 16, 9]\n",
      "\n",
      "Matrix Division\n",
      "[9, 16, 21]\n",
      "[24, 25, 24]\n",
      "[21, 16, 9]\n"
     ]
    }
   ],
   "source": [
    "rmatrix = [[0, 0, 0], [0, 0, 0], [0, 0, 0]]\n",
    "\n",
    "for row in range(len(X)):\n",
    "    for column in range(len(X[0])):\n",
    "        rmatrix[row][column] = X[row][column] * Y[row][column]\n",
    "        \n",
    "print(\"Matrix Multiplication\",)\n",
    "for r in rmatrix:\n",
    "    print(r)\n",
    "        \n",
    "for i in range(len(X)):\n",
    "    for j in range(len(X[0])):\n",
    "        rmatrix[row][column] = X[row][column] // Y[row][column]\n",
    "\n",
    "print(\"\\nMatrix Division\",)   \n",
    "for r in rmatrix:\n",
    "    print(r)"
   ]
  },
  {
   "cell_type": "code",
   "execution_count": 9,
   "id": "20d291eb-2c65-428d-b4bb-4524d59f30e2",
   "metadata": {},
   "outputs": [
    {
     "name": "stdout",
     "output_type": "stream",
     "text": [
      "[9, 6, 3]\n",
      "[8, 5, 2]\n",
      "[7, 4, 1]\n"
     ]
    }
   ],
   "source": [
    "X = [[9, 8, 7], [6, 5, 4], [3, 2, 1]]\n",
    "\n",
    "result = [[0, 0, 0], [0, 0, 0], [0, 0, 0]]\n",
    "\n",
    "# iterate through rows\n",
    "for row in range(len(X)):\n",
    "    # iterate through columns\n",
    "    for column in range(len(X[0])):\n",
    "        result[column][row] = X[row][column]\n",
    "\n",
    "for r in result:\n",
    "    print(r)\n",
    "    \n",
    "# # Python Program to Transpose a Matrix using the list comprehension\n",
    "\n",
    "# rez = [[X[column][row] for column in range(len(X))] \n",
    "#    for row in range(len(X[0]))]\n",
    "\n",
    "# for row in rez:\n",
    "#     print(row)"
   ]
  },
  {
   "cell_type": "code",
   "execution_count": null,
   "id": "bd490794-d9cf-40fd-a269-c2cfa2d43a36",
   "metadata": {},
   "outputs": [],
   "source": []
  }
 ],
 "metadata": {
  "kernelspec": {
   "display_name": "Python 3 (ipykernel)",
   "language": "python",
   "name": "python3"
  },
  "language_info": {
   "codemirror_mode": {
    "name": "ipython",
    "version": 3
   },
   "file_extension": ".py",
   "mimetype": "text/x-python",
   "name": "python",
   "nbconvert_exporter": "python",
   "pygments_lexer": "ipython3",
   "version": "3.12.4"
  }
 },
 "nbformat": 4,
 "nbformat_minor": 5
}
